{
 "cells": [
  {
   "cell_type": "markdown",
   "metadata": {
    "deletable": false,
    "editable": false,
    "nbgrader": {
     "cell_type": "markdown",
     "checksum": "287c943b3b3c791644f34632e4018ee8",
     "grade": false,
     "grade_id": "cell-6093d584be2ad9ed",
     "locked": false,
     "schema_version": 3,
     "solution": false
    }
   },
   "source": [
    "# Worksheet 8 - Regression\n",
    "\n",
    "### Lecture and Tutorial Learning Goals:\n",
    "\n",
    "After completing this week's lecture and tutorial work, you will be able to:\n",
    "- Recognize situations where a simple regression analysis would be appropriate for making predictions.\n",
    "- Explain the k-nearest neighbour ($k$-nn) regression algorithm and describe how it differs from $k$-nn classification.\n",
    "- Interpret the output of a $k$-nn regression.\n",
    "- In a dataset with two variables, perform k-nearest neighbour regression in Python using `scikit-learn` to predict the values for a test dataset.\n",
    "- Using Python, execute hyperparameter tuning in Python to choose the number of neighbours.\n",
    "- Using Python, evaluate $k$-nn regression prediction accuracy using a test data set and an appropriate metric (root mean squared error).\n",
    "- In the context of $k$-nn regression, compare and contrast goodness of fit and prediction properties (RMSE versus RMSPE).\n",
    "- Describe advantages and disadvantages of the $k$-nearest neighbour regression approach.\n",
    "\n",
    "This tutorial covers parts of [Chapter 7](https://python.datasciencebook.ca/regression1) of the online textbook. You should read this chapter before attempting this assignment. Any place you see `___`, you must fill in the function, variable, or data to complete the code. Substitute the `raise NotImplementedError` with your completed code and answers then proceed to run the cell."
   ]
  },
  {
   "cell_type": "code",
   "execution_count": null,
   "metadata": {
    "deletable": false,
    "editable": false,
    "nbgrader": {
     "cell_type": "code",
     "checksum": "557f03fa20fc0ebcf8983518d3f404b1",
     "grade": false,
     "grade_id": "cell-53085d5554f9dcc8",
     "locked": false,
     "schema_version": 3,
     "solution": false,
     "task": false
    }
   },
   "outputs": [],
   "source": [
    "### Run this cell before continuing.\n",
    "import altair as alt\n",
    "import numpy as np\n",
    "import pandas as pd\n",
    "from sklearn import set_config\n",
    "from sklearn.model_selection import GridSearchCV, cross_validate, train_test_split\n",
    "from sklearn.neighbors import KNeighborsRegressor\n",
    "from sklearn.pipeline import make_pipeline\n",
    "from sklearn.preprocessing import StandardScaler\n",
    "from sklearn.metrics import mean_squared_error\n",
    "\n",
    "# Simplify working with large datasets in Altair\n",
    "alt.data_transformers.disable_max_rows()\n",
    "\n",
    "# Output dataframes instead of arrays\n",
    "set_config(transform_output=\"pandas\")"
   ]
  },
  {
   "cell_type": "markdown",
   "metadata": {
    "deletable": false,
    "editable": false,
    "nbgrader": {
     "cell_type": "markdown",
     "checksum": "761fe69db4e2a0df7d566bcba24a6c5d",
     "grade": false,
     "grade_id": "cell-8e40e06455324a19",
     "locked": false,
     "schema_version": 3,
     "solution": false
    }
   },
   "source": [
    "**Question 0.0** \n",
    "<br> {points: 1}\n",
    "\n",
    "To predict a value of $Y$ for a new observation using $k$-nn **regression**, we identify the $k$-nearest neighbours and then:\n",
    "\n",
    "A. Assign it the median of the $k$-nearest neighbours as the predicted value\n",
    "\n",
    "B. Assign it the mean of the $k$-nearest neighbours as the predicted value\n",
    "\n",
    "C. Assign it the mode of the $k$-nearest neighbours as the predicted value\n",
    "\n",
    "D. Assign it the majority vote of the $k$-nearest neighbours as the predicted value\n",
    "\n",
    "*Save the letter of the answer you think is correct to a variable named `answer0_0`. Make sure your answer is an uppercase letter and is surrounded by quotation marks (e.g. `\"F\"`).*"
   ]
  },
  {
   "cell_type": "code",
   "execution_count": null,
   "metadata": {
    "deletable": false,
    "nbgrader": {
     "cell_type": "code",
     "checksum": "be09c84e9423c2fde7de7f9a7ff062d0",
     "grade": false,
     "grade_id": "cell-108236d99368cc44",
     "locked": false,
     "schema_version": 3,
     "solution": true
    }
   },
   "outputs": [],
   "source": [
    "# your code here\n",
    "raise NotImplementedError"
   ]
  },
  {
   "cell_type": "code",
   "execution_count": null,
   "metadata": {
    "deletable": false,
    "editable": false,
    "nbgrader": {
     "cell_type": "code",
     "checksum": "196f9498c8e1fa3993dc7cd3bef7bdfa",
     "grade": true,
     "grade_id": "cell-7d5938e33a38edeb",
     "locked": false,
     "points": 1,
     "schema_version": 3,
     "solution": false
    }
   },
   "outputs": [],
   "source": [
    "from hashlib import sha1\n",
    "assert sha1(str(type(answer0_0)).encode(\"utf-8\")+b\"dcefd\").hexdigest() == \"3e545b3f6befc9fb348e77db7f2040e82e9bcbb7\", \"type of answer0_0 is not str. answer0_0 should be an str\"\n",
    "assert sha1(str(len(answer0_0)).encode(\"utf-8\")+b\"dcefd\").hexdigest() == \"107f1edd22c2860f5c219827900a4ddae78b3686\", \"length of answer0_0 is not correct\"\n",
    "assert sha1(str(answer0_0.lower()).encode(\"utf-8\")+b\"dcefd\").hexdigest() == \"d18bedfe24fae0dd4438932704ba3bd5d6bd4f7d\", \"value of answer0_0 is not correct\"\n",
    "assert sha1(str(answer0_0).encode(\"utf-8\")+b\"dcefd\").hexdigest() == \"0216e5aab479cd7c4e52506d6e7a964513305bd0\", \"correct string value of answer0_0 but incorrect case of letters\"\n",
    "\n",
    "print('Success!')"
   ]
  },
  {
   "cell_type": "markdown",
   "metadata": {
    "deletable": false,
    "editable": false,
    "nbgrader": {
     "cell_type": "markdown",
     "checksum": "4d69f891ae2b08cee7906ae7f104890d",
     "grade": false,
     "grade_id": "cell-e612110169987c7b",
     "locked": false,
     "schema_version": 3,
     "solution": false,
     "task": false
    }
   },
   "source": [
    "## Marathon Training\n",
    "\n",
    "<img src='https://media.giphy.com/media/nUN6InE2CodRm/giphy.gif' width='400'>\n",
    "\n",
    "Source: https://media.giphy.com/media/nUN6InE2CodRm/giphy.gif\n",
    "\n",
    "What predicts which athletes will perform better than others? Specifically, we are interested in marathon runners, and looking at how the maximum distance ran per week (in miles) during race training predicts the time it takes a runner to finish the race. For this, we will be looking at the `marathon.csv` file in the `data/` folder."
   ]
  },
  {
   "cell_type": "markdown",
   "metadata": {
    "deletable": false,
    "editable": false,
    "nbgrader": {
     "cell_type": "markdown",
     "checksum": "9ea30c1434a67e3876226cd543d43d4c",
     "grade": false,
     "grade_id": "cell-16d7d432c49c9e53",
     "locked": false,
     "schema_version": 3,
     "solution": false
    }
   },
   "source": [
    "**Question 1.0** \n",
    "<br> {points: 1}\n",
    "\n",
    "Load the data and assign it to an object called `marathon`. "
   ]
  },
  {
   "cell_type": "code",
   "execution_count": null,
   "metadata": {
    "deletable": false,
    "nbgrader": {
     "cell_type": "code",
     "checksum": "75aa40b2dc5eadc254c56f3ec9d4a9b5",
     "grade": false,
     "grade_id": "cell-5376dc2c39983258",
     "locked": false,
     "schema_version": 3,
     "solution": true
    }
   },
   "outputs": [],
   "source": [
    "# your code here\n",
    "raise NotImplementedError\n",
    "marathon"
   ]
  },
  {
   "cell_type": "code",
   "execution_count": null,
   "metadata": {
    "deletable": false,
    "editable": false,
    "nbgrader": {
     "cell_type": "code",
     "checksum": "5d849a3973cfdae9723e4e7acf4a5df9",
     "grade": true,
     "grade_id": "cell-60554f6f6a56a16c",
     "locked": false,
     "points": 1,
     "schema_version": 3,
     "solution": false
    }
   },
   "outputs": [],
   "source": [
    "from hashlib import sha1\n",
    "assert sha1(str(type(marathon is None)).encode(\"utf-8\")+b\"30457\").hexdigest() == \"26d5aef6e71dd1f2188f7132ba3c7c26c732d4db\", \"type of marathon is None is not bool. marathon is None should be a bool\"\n",
    "assert sha1(str(marathon is None).encode(\"utf-8\")+b\"30457\").hexdigest() == \"598dc6a0d372aa6b4fab47451f4061e3c8d8d3ee\", \"boolean value of marathon is None is not correct\"\n",
    "\n",
    "assert sha1(str(type(marathon)).encode(\"utf-8\")+b\"30458\").hexdigest() == \"81b9d38b9594935ea28437a78a119c664b8e271a\", \"type of type(marathon) is not correct\"\n",
    "\n",
    "assert sha1(str(type(marathon.shape)).encode(\"utf-8\")+b\"30459\").hexdigest() == \"fc9069c39d96d09c086a2b82cb34971a576bcec5\", \"type of marathon.shape is not tuple. marathon.shape should be a tuple\"\n",
    "assert sha1(str(len(marathon.shape)).encode(\"utf-8\")+b\"30459\").hexdigest() == \"619cbada2e7f2f961d90ed765b5d118334e79c30\", \"length of marathon.shape is not correct\"\n",
    "assert sha1(str(sorted(map(str, marathon.shape))).encode(\"utf-8\")+b\"30459\").hexdigest() == \"efe8921e7ce06759f11980cddc7ae55db277e49c\", \"values of marathon.shape are not correct\"\n",
    "assert sha1(str(marathon.shape).encode(\"utf-8\")+b\"30459\").hexdigest() == \"e3f7896715d8c8a8f7ada1fd2c5213c678367660\", \"order of elements of marathon.shape is not correct\"\n",
    "\n",
    "assert sha1(str(type(\"time_hrs\" in marathon.columns)).encode(\"utf-8\")+b\"3045a\").hexdigest() == \"3a3de902ed3e89879d57fc4eff706e656659352b\", \"type of \\\"time_hrs\\\" in marathon.columns is not bool. \\\"time_hrs\\\" in marathon.columns should be a bool\"\n",
    "assert sha1(str(\"time_hrs\" in marathon.columns).encode(\"utf-8\")+b\"3045a\").hexdigest() == \"f7e1f0c320e623dd359e1bd60d7a2017c4aef608\", \"boolean value of \\\"time_hrs\\\" in marathon.columns is not correct\"\n",
    "\n",
    "assert sha1(str(type(\"max\" in marathon.columns)).encode(\"utf-8\")+b\"3045b\").hexdigest() == \"dcbf21f70e6bbc9a4f84d3f0c06f12d13aafa0ac\", \"type of \\\"max\\\" in marathon.columns is not bool. \\\"max\\\" in marathon.columns should be a bool\"\n",
    "assert sha1(str(\"max\" in marathon.columns).encode(\"utf-8\")+b\"3045b\").hexdigest() == \"24b9f6b32bda0c76fd2aab9ff718c8c441f6a57b\", \"boolean value of \\\"max\\\" in marathon.columns is not correct\"\n",
    "\n",
    "print('Success!')"
   ]
  },
  {
   "cell_type": "markdown",
   "metadata": {
    "deletable": false,
    "editable": false,
    "nbgrader": {
     "cell_type": "markdown",
     "checksum": "cf74db2f57c49f8935ab34dc3fcb8ea4",
     "grade": false,
     "grade_id": "cell-26802c14f46a4d8e",
     "locked": false,
     "schema_version": 3,
     "solution": false
    }
   },
   "source": [
    "**Question 2.0**\n",
    "<br> {points: 1}\n",
    "\n",
    "We want to predict race time (in hours) (`time_hrs`) given a particular value of maximum distance ran per week (in miles) during race training (`max`). Let's take a subset of size 50 individuals of our marathon data and assign it to an object called `marathon_50`. With this subset, plot a scatterplot (using `mark_circle`) to assess the relationship between these two variables. Put `time_hrs` on the y-axis and `max` on the x-axis.  Discuss, with a classmate, the relationship between race time and maximum distance ran per week during training based on the scatterplot you create below. \n",
    "\n",
    "*Hint: To take a subset of your data you can use the `sample` function*\n",
    "\n",
    "*Assign your plot to an object called `answer2`.*"
   ]
  },
  {
   "cell_type": "code",
   "execution_count": null,
   "metadata": {
    "deletable": false,
    "nbgrader": {
     "cell_type": "code",
     "checksum": "f6927f52ae154d8e6ea639d7893551b5",
     "grade": false,
     "grade_id": "cell-6fcfc6ca32883f4d",
     "locked": false,
     "schema_version": 3,
     "solution": true
    }
   },
   "outputs": [],
   "source": [
    "# ___ = ___.sample(___, random_state=300) # Do not change the random_state\n",
    "\n",
    "\n",
    "# your code here\n",
    "raise NotImplementedError\n",
    "answer2"
   ]
  },
  {
   "cell_type": "code",
   "execution_count": null,
   "metadata": {
    "deletable": false,
    "editable": false,
    "nbgrader": {
     "cell_type": "code",
     "checksum": "70170a1a854e9230c3209422d010edd9",
     "grade": true,
     "grade_id": "cell-78ac50fb41cd9a86",
     "locked": false,
     "points": 1,
     "schema_version": 3,
     "solution": false
    }
   },
   "outputs": [],
   "source": [
    "from hashlib import sha1\n",
    "assert sha1(str(type(answer2 is None)).encode(\"utf-8\")+b\"9767\").hexdigest() == \"c9f213a0f76bf1899a7c7ab41bd64020e00a5d8a\", \"type of answer2 is None is not bool. answer2 is None should be a bool\"\n",
    "assert sha1(str(answer2 is None).encode(\"utf-8\")+b\"9767\").hexdigest() == \"07c6d302a12aea10f94ce4ac438ed8846da04ee4\", \"boolean value of answer2 is None is not correct\"\n",
    "\n",
    "assert sha1(str(type(marathon_50.shape)).encode(\"utf-8\")+b\"9768\").hexdigest() == \"1dc6a7e0dc1faf456fc0a56183f1a383ab13ea95\", \"type of marathon_50.shape is not tuple. marathon_50.shape should be a tuple\"\n",
    "assert sha1(str(len(marathon_50.shape)).encode(\"utf-8\")+b\"9768\").hexdigest() == \"2211b0a1f1461259f232290064bd4f32d781712d\", \"length of marathon_50.shape is not correct\"\n",
    "assert sha1(str(sorted(map(str, marathon_50.shape))).encode(\"utf-8\")+b\"9768\").hexdigest() == \"2102806f043d7c36dcd6b39270f2bc3bf06645c2\", \"values of marathon_50.shape are not correct\"\n",
    "assert sha1(str(marathon_50.shape).encode(\"utf-8\")+b\"9768\").hexdigest() == \"38fe5c44247a3db3a62933578c3250c807ac8a1c\", \"order of elements of marathon_50.shape is not correct\"\n",
    "\n",
    "assert sha1(str(type(answer2.data.equals(marathon_50))).encode(\"utf-8\")+b\"9769\").hexdigest() == \"4cf4607212e9a4c28c631904ff116572eab419e5\", \"type of answer2.data.equals(marathon_50) is not bool. answer2.data.equals(marathon_50) should be a bool\"\n",
    "assert sha1(str(answer2.data.equals(marathon_50)).encode(\"utf-8\")+b\"9769\").hexdigest() == \"bbab45c34d4ff267cf8e57a05d36d09aa94cc953\", \"boolean value of answer2.data.equals(marathon_50) is not correct\"\n",
    "\n",
    "assert sha1(str(type(answer2.encoding.x['shorthand'])).encode(\"utf-8\")+b\"976a\").hexdigest() == \"839b1f6e497ebbed31fb8df0322b128a7b581e7b\", \"type of answer2.encoding.x['shorthand'] is not str. answer2.encoding.x['shorthand'] should be an str\"\n",
    "assert sha1(str(len(answer2.encoding.x['shorthand'])).encode(\"utf-8\")+b\"976a\").hexdigest() == \"bbd3ee6c2cefcc8f64a4b15489f070e4e7360127\", \"length of answer2.encoding.x['shorthand'] is not correct\"\n",
    "assert sha1(str(answer2.encoding.x['shorthand'].lower()).encode(\"utf-8\")+b\"976a\").hexdigest() == \"5488fa8c72460ec31da324fd60582d6a75e894ac\", \"value of answer2.encoding.x['shorthand'] is not correct\"\n",
    "assert sha1(str(answer2.encoding.x['shorthand']).encode(\"utf-8\")+b\"976a\").hexdigest() == \"5488fa8c72460ec31da324fd60582d6a75e894ac\", \"correct string value of answer2.encoding.x['shorthand'] but incorrect case of letters\"\n",
    "\n",
    "assert sha1(str(type(answer2.encoding.y['shorthand'])).encode(\"utf-8\")+b\"976b\").hexdigest() == \"ad11bd6cff76d9856350485bf290e058bf89f9e0\", \"type of answer2.encoding.y['shorthand'] is not str. answer2.encoding.y['shorthand'] should be an str\"\n",
    "assert sha1(str(len(answer2.encoding.y['shorthand'])).encode(\"utf-8\")+b\"976b\").hexdigest() == \"7e31068cc71027470db684645a245618ecc12f0b\", \"length of answer2.encoding.y['shorthand'] is not correct\"\n",
    "assert sha1(str(answer2.encoding.y['shorthand'].lower()).encode(\"utf-8\")+b\"976b\").hexdigest() == \"afd8e5f4040c0e6a927a56dd3222c5cb14c29b23\", \"value of answer2.encoding.y['shorthand'] is not correct\"\n",
    "assert sha1(str(answer2.encoding.y['shorthand']).encode(\"utf-8\")+b\"976b\").hexdigest() == \"afd8e5f4040c0e6a927a56dd3222c5cb14c29b23\", \"correct string value of answer2.encoding.y['shorthand'] but incorrect case of letters\"\n",
    "\n",
    "assert sha1(str(type(answer2.mark)).encode(\"utf-8\")+b\"976c\").hexdigest() == \"3623b4c339e9c6ee9fdc6fad96976a7d1a2d9557\", \"type of answer2.mark is not str. answer2.mark should be an str\"\n",
    "assert sha1(str(len(answer2.mark)).encode(\"utf-8\")+b\"976c\").hexdigest() == \"77446053854ce07f9a468e3c4253ee227343be8c\", \"length of answer2.mark is not correct\"\n",
    "assert sha1(str(answer2.mark.lower()).encode(\"utf-8\")+b\"976c\").hexdigest() == \"5b87400edb7ee707ab95967718e9b221d24e92e2\", \"value of answer2.mark is not correct\"\n",
    "assert sha1(str(answer2.mark).encode(\"utf-8\")+b\"976c\").hexdigest() == \"5b87400edb7ee707ab95967718e9b221d24e92e2\", \"correct string value of answer2.mark but incorrect case of letters\"\n",
    "\n",
    "assert sha1(str(type(isinstance(answer2.encoding.x['title'], str))).encode(\"utf-8\")+b\"976d\").hexdigest() == \"851319552403a87bee34ca83d924c7a895eb0db0\", \"type of isinstance(answer2.encoding.x['title'], str) is not bool. isinstance(answer2.encoding.x['title'], str) should be a bool\"\n",
    "assert sha1(str(isinstance(answer2.encoding.x['title'], str)).encode(\"utf-8\")+b\"976d\").hexdigest() == \"e82182bc48c146515fd8a30abc08ff860fa54ee5\", \"boolean value of isinstance(answer2.encoding.x['title'], str) is not correct\"\n",
    "\n",
    "assert sha1(str(type(isinstance(answer2.encoding.y['title'], str))).encode(\"utf-8\")+b\"976e\").hexdigest() == \"265762b7f33189b160c25ee74148700738439490\", \"type of isinstance(answer2.encoding.y['title'], str) is not bool. isinstance(answer2.encoding.y['title'], str) should be a bool\"\n",
    "assert sha1(str(isinstance(answer2.encoding.y['title'], str)).encode(\"utf-8\")+b\"976e\").hexdigest() == \"8bb5960c415644b45508b0818b1eda7297426e4f\", \"boolean value of isinstance(answer2.encoding.y['title'], str) is not correct\"\n",
    "\n",
    "print('Success!')"
   ]
  },
  {
   "cell_type": "markdown",
   "metadata": {
    "deletable": false,
    "editable": false,
    "nbgrader": {
     "cell_type": "markdown",
     "checksum": "14adf10f016a98d409cb390184406bf1",
     "grade": false,
     "grade_id": "cell-cbe9f9a5c4b7c264",
     "locked": false,
     "schema_version": 3,
     "solution": false
    }
   },
   "source": [
    "**Question 3.0**\n",
    "<br> {points: 1}\n",
    "\n",
    "Suppose we want to predict the race time for someone who ran a maximum distance of 100 miles per week during training. In the chart we created in the previous question, we can see that no one has run a maximum distance of exactly 100 miles per week. How can we predict with this data? We can use $k$-nn regression! To do this we get the $Y$ values (target/response variable) of the nearest $k$ values and then take their average and use that as the prediction. \n",
    "\n",
    "For this question perform $k$-nn regression manually to predict the race time based on the average value of the 4 runners (\"neighbors\") closest to running 100 miles per week during training.\n",
    "\n",
    "*Fill in the scaffolding below and assign your answer to an object named `answer3`.*"
   ]
  },
  {
   "cell_type": "code",
   "execution_count": null,
   "metadata": {
    "deletable": false,
    "editable": false,
    "nbgrader": {
     "cell_type": "code",
     "checksum": "1b7ba4c5feb2b757a6defcb9e3d57969",
     "grade": false,
     "grade_id": "cell-51d4b16bee915d31",
     "locked": false,
     "schema_version": 3,
     "solution": false,
     "task": false
    }
   },
   "outputs": [],
   "source": [
    "# Run this cell to see a visualization of the 4 nearest neighbours to 100 miles / week\n",
    "\n",
    "rule = alt.Chart().mark_rule().encode(x=alt.datum(100))\n",
    "\n",
    "lines = alt.Chart(\n",
    "    pd.DataFrame({\n",
    "        \"x\": [110, 104, 90, 86],\n",
    "        \"y\": [2.63, 2.8, 3.27, 2.44]\n",
    "    })\n",
    ").mark_line(color=\"orange\", size=2).encode(\n",
    "    x=\"x\",\n",
    "    x2=alt.datum(100),  # we use `x2` to set a constant second x-coordinate at 100 for all the lines\n",
    "    y=\"y\",\n",
    ")\n",
    "\n",
    "lines + rule + answer2"
   ]
  },
  {
   "cell_type": "code",
   "execution_count": null,
   "metadata": {
    "deletable": false,
    "nbgrader": {
     "cell_type": "code",
     "checksum": "86d5852fe651b81170219fd15540a341",
     "grade": false,
     "grade_id": "cell-a8d1b15c312d9c3d",
     "locked": false,
     "schema_version": 3,
     "solution": true
    }
   },
   "outputs": [],
   "source": [
    "# ___ = (\n",
    "#     marathon_50\n",
    "#     .___(diff=(100 - ___).abs())  # Compute the absolute distance to 100 miles for each runner\n",
    "#     .___(4, ___)\n",
    "#     [___]\n",
    "#     .mean()\n",
    "# )\n",
    "\n",
    "# your code here\n",
    "raise NotImplementedError\n",
    "answer3"
   ]
  },
  {
   "cell_type": "code",
   "execution_count": null,
   "metadata": {
    "deletable": false,
    "editable": false,
    "nbgrader": {
     "cell_type": "code",
     "checksum": "c4e027aac973e1db926ccf3ad0d4c320",
     "grade": true,
     "grade_id": "cell-af7afd4794001c7b",
     "locked": false,
     "points": 1,
     "schema_version": 3,
     "solution": false
    }
   },
   "outputs": [],
   "source": [
    "from hashlib import sha1\n",
    "assert sha1(str(type(answer3)).encode(\"utf-8\")+b\"7bdb3\").hexdigest() == \"3a71bdfd3d857a0c621cb9c0eca46cd2d17f7a25\", \"type of answer3 is not correct\"\n",
    "assert sha1(str(answer3).encode(\"utf-8\")+b\"7bdb3\").hexdigest() == \"37f5342ce74ffaa4f9a707df207bb80d2cfefc4f\", \"value of answer3 is not correct\"\n",
    "\n",
    "print('Success!')"
   ]
  },
  {
   "cell_type": "markdown",
   "metadata": {
    "deletable": false,
    "editable": false,
    "nbgrader": {
     "cell_type": "markdown",
     "checksum": "b1f9aa206f133969fcff7bf2009bbd0e",
     "grade": false,
     "grade_id": "cell-0c2107e7f52efb3d",
     "locked": false,
     "schema_version": 3,
     "solution": false,
     "task": false
    }
   },
   "source": [
    "**Question 4.0**\n",
    "<br> {points: 1}\n",
    "\n",
    "For this question, let's instead predict the race time based on the 2 closest neighbors to the 100 miles per week during training.\n",
    "\n",
    "*Assign your answer to an object named `answer4`.*"
   ]
  },
  {
   "cell_type": "code",
   "execution_count": null,
   "metadata": {
    "deletable": false,
    "nbgrader": {
     "cell_type": "code",
     "checksum": "ddca56a9ac218b2e4309e74065c8a0f6",
     "grade": false,
     "grade_id": "cell-44994bbd299ff0d0",
     "locked": false,
     "schema_version": 3,
     "solution": true
    }
   },
   "outputs": [],
   "source": [
    "# your code here\n",
    "raise NotImplementedError\n",
    "answer4"
   ]
  },
  {
   "cell_type": "code",
   "execution_count": null,
   "metadata": {
    "deletable": false,
    "editable": false,
    "nbgrader": {
     "cell_type": "code",
     "checksum": "5fe34271a3a9489dc5c7e440986c1ba0",
     "grade": true,
     "grade_id": "cell-690e322810064165",
     "locked": false,
     "points": 1,
     "schema_version": 3,
     "solution": false
    }
   },
   "outputs": [],
   "source": [
    "from hashlib import sha1\n",
    "assert sha1(str(type(answer4)).encode(\"utf-8\")+b\"91a96\").hexdigest() == \"56be2360e19074080ea1ee864973930e01b1feb8\", \"type of answer4 is not correct\"\n",
    "assert sha1(str(answer4).encode(\"utf-8\")+b\"91a96\").hexdigest() == \"d87f739886a2763fa87919ecfd5616a4cc832881\", \"value of answer4 is not correct\"\n",
    "\n",
    "print('Success!')"
   ]
  },
  {
   "cell_type": "markdown",
   "metadata": {
    "deletable": false,
    "editable": false,
    "nbgrader": {
     "cell_type": "markdown",
     "checksum": "a5edd599a336ceeb48bfe12280c7e05b",
     "grade": false,
     "grade_id": "cell-3311ba44befa3767",
     "locked": false,
     "schema_version": 3,
     "solution": false
    }
   },
   "source": [
    "**Question 5.0**\n",
    "<br> {points: 1}\n",
    "\n",
    "So far you have calculated the $k$ nearest neighbors predictions manually based on values of $k$ we have told you to use. However, last week we learned how to use a better method to choose the best $k$ for classification. \n",
    "\n",
    "Based on what you learned last week and what you have learned about $k$-nn regression so far this week, which method would you use to choose the $k$ (in the situation where we don't tell you which $k$ to use)?\n",
    "\n",
    "- A) Choose the $k$ that excludes most outliers\n",
    "- B) Choose the $k$ with the lowest training error\n",
    "- C) Choose the $k$ with the lowest cross-validation error\n",
    "- D) Choose the $k$ that includes the most data points\n",
    "- E) Choose the $k$ with the lowest testing error\n",
    "\n",
    "*Assign your answer to an object called `answer5`.  Make sure your answer is an uppercase letter and is surrounded by quotation marks (e.g. `\"F\"`).*"
   ]
  },
  {
   "cell_type": "code",
   "execution_count": null,
   "metadata": {
    "deletable": false,
    "nbgrader": {
     "cell_type": "code",
     "checksum": "a11647b32fa9749c8e9821e17be507a0",
     "grade": false,
     "grade_id": "cell-01b498d6b1415bf5",
     "locked": false,
     "schema_version": 3,
     "solution": true
    }
   },
   "outputs": [],
   "source": [
    "# your code here\n",
    "raise NotImplementedError\n",
    "answer5"
   ]
  },
  {
   "cell_type": "code",
   "execution_count": null,
   "metadata": {
    "deletable": false,
    "editable": false,
    "nbgrader": {
     "cell_type": "code",
     "checksum": "87c6d5b0c1a5d0ae1dfce9b0563d26bc",
     "grade": true,
     "grade_id": "cell-7cbe965dbdb7228d",
     "locked": false,
     "points": 1,
     "schema_version": 3,
     "solution": false
    }
   },
   "outputs": [],
   "source": [
    "from hashlib import sha1\n",
    "assert sha1(str(type(answer5)).encode(\"utf-8\")+b\"37693\").hexdigest() == \"90111e24734de91c15169da5902a3788de0a8444\", \"type of answer5 is not str. answer5 should be an str\"\n",
    "assert sha1(str(len(answer5)).encode(\"utf-8\")+b\"37693\").hexdigest() == \"fd218df3c1aeccee91b16c5edb3164742b012b62\", \"length of answer5 is not correct\"\n",
    "assert sha1(str(answer5.lower()).encode(\"utf-8\")+b\"37693\").hexdigest() == \"4f99d9a8de2f5a0e124277c1be1e248dce2816c2\", \"value of answer5 is not correct\"\n",
    "assert sha1(str(answer5).encode(\"utf-8\")+b\"37693\").hexdigest() == \"57eb3673a1f7ddb554643fa32e78e43ee5424edb\", \"correct string value of answer5 but incorrect case of letters\"\n",
    "\n",
    "print('Success!')"
   ]
  },
  {
   "cell_type": "markdown",
   "metadata": {
    "deletable": false,
    "editable": false,
    "nbgrader": {
     "cell_type": "markdown",
     "checksum": "47f01e223f004b1f3c8ad26a8226b640",
     "grade": false,
     "grade_id": "cell-b3b34499fe540e49",
     "locked": false,
     "schema_version": 3,
     "solution": false
    }
   },
   "source": [
    "**Question 6.0**\n",
    "<br> {points: 1}\n",
    "\n",
    "We have just seen how to perform k-nn regression manually, now we will apply it to the whole dataset using the `scikit-learn` package. To do so, we will first need to create the training and test datasets. Split the data to use *75%* as your training set. Store the training data as `marathon_training` and the test set as `marathon_testing`. Remember we won't touch the test dataset until the end. \n",
    "\n",
    "Next, set the `time_hrs` column as the target (y) and `max` column as the input feature (X). Store the features as `X_train` and `X_test` and targets as `y_train` and `y_test` respectively for the `marathon_training` and `marathon_testing`. Remember that it is easier to work with input features as a data frame rather than a series, so make sure to extract the single input feature as a data frame by passing the column name inside a list.\n",
    "\n",
    "*Assign your answers to objects named `marathon_training`, `marathon_testing`, `X_train`, `y_train`, `X_test`, and `y_test`.*"
   ]
  },
  {
   "cell_type": "code",
   "execution_count": null,
   "metadata": {
    "deletable": false,
    "nbgrader": {
     "cell_type": "code",
     "checksum": "a8490ade5d5c9723dbb01fbd6c3d9114",
     "grade": false,
     "grade_id": "cell-8257a9338314019e",
     "locked": false,
     "schema_version": 3,
     "solution": true
    }
   },
   "outputs": [],
   "source": [
    "# ___, ___ = train_test_split(\n",
    "#     ___,\n",
    "#     test_size=___,\n",
    "#     random_state=2000,  # Do not change the random_state\n",
    "# )\n",
    "# X_train = ___[___]  # A single column data frame\n",
    "# y_train = ___[___]  # A series\n",
    "\n",
    "# X_test = ___[___]  # A single column data frame\n",
    "# y_test = ___[___]  # A series\n",
    "\n",
    "# your code here\n",
    "raise NotImplementedError"
   ]
  },
  {
   "cell_type": "code",
   "execution_count": null,
   "metadata": {
    "deletable": false,
    "editable": false,
    "nbgrader": {
     "cell_type": "code",
     "checksum": "3bfa3815e246669d44cd2b93f8f24f85",
     "grade": true,
     "grade_id": "cell-381c8aeacf15fd35",
     "locked": false,
     "points": 1,
     "schema_version": 3,
     "solution": false
    }
   },
   "outputs": [],
   "source": [
    "from hashlib import sha1\n",
    "assert sha1(str(type(marathon_training is None)).encode(\"utf-8\")+b\"e7ecd\").hexdigest() == \"23389e9a6137f9af868ed3d5dcb5563fa02cf9ee\", \"type of marathon_training is None is not bool. marathon_training is None should be a bool\"\n",
    "assert sha1(str(marathon_training is None).encode(\"utf-8\")+b\"e7ecd\").hexdigest() == \"a85ea51e13d13be27411312c98c5d8d08427748f\", \"boolean value of marathon_training is None is not correct\"\n",
    "\n",
    "assert sha1(str(type(marathon_training.shape)).encode(\"utf-8\")+b\"e7ece\").hexdigest() == \"5c9a6007e66cd4aeb4e09f7e1fbad9430720c874\", \"type of marathon_training.shape is not tuple. marathon_training.shape should be a tuple\"\n",
    "assert sha1(str(len(marathon_training.shape)).encode(\"utf-8\")+b\"e7ece\").hexdigest() == \"4371251b32814c5ec901659b3f7243b8f06201eb\", \"length of marathon_training.shape is not correct\"\n",
    "assert sha1(str(sorted(map(str, marathon_training.shape))).encode(\"utf-8\")+b\"e7ece\").hexdigest() == \"8c5dccfad110d40e6e2dd0939e314507b72c82ba\", \"values of marathon_training.shape are not correct\"\n",
    "assert sha1(str(marathon_training.shape).encode(\"utf-8\")+b\"e7ece\").hexdigest() == \"79b9d73983831ec1ad4b9a030e13f40e5e631303\", \"order of elements of marathon_training.shape is not correct\"\n",
    "\n",
    "assert sha1(str(type(sum(marathon_training.age))).encode(\"utf-8\")+b\"e7ecf\").hexdigest() == \"6dd9106e51faadb152c13f46748de9b7631041f4\", \"type of sum(marathon_training.age) is not int. Please make sure it is int and not np.int64, etc. You can cast your value into an int using int()\"\n",
    "assert sha1(str(sum(marathon_training.age)).encode(\"utf-8\")+b\"e7ecf\").hexdigest() == \"2e875c992a00e64a049679c247546552107e4806\", \"value of sum(marathon_training.age) is not correct\"\n",
    "\n",
    "assert sha1(str(type(marathon_testing is None)).encode(\"utf-8\")+b\"e7ed0\").hexdigest() == \"eeab11eee8b5ac43daead049c08370a1d6bd29e1\", \"type of marathon_testing is None is not bool. marathon_testing is None should be a bool\"\n",
    "assert sha1(str(marathon_testing is None).encode(\"utf-8\")+b\"e7ed0\").hexdigest() == \"45fc996440f56862fa729a598efb3e94ad2cbcba\", \"boolean value of marathon_testing is None is not correct\"\n",
    "\n",
    "assert sha1(str(type(marathon_testing.shape)).encode(\"utf-8\")+b\"e7ed1\").hexdigest() == \"580e794a2ad10c9c374bc994cb416f4825c1abc2\", \"type of marathon_testing.shape is not tuple. marathon_testing.shape should be a tuple\"\n",
    "assert sha1(str(len(marathon_testing.shape)).encode(\"utf-8\")+b\"e7ed1\").hexdigest() == \"0cfe48ec1593a68181d07cf5f9f1868014b33c5f\", \"length of marathon_testing.shape is not correct\"\n",
    "assert sha1(str(sorted(map(str, marathon_testing.shape))).encode(\"utf-8\")+b\"e7ed1\").hexdigest() == \"cce555187808a48e1408af0bb536e79e8a2225a5\", \"values of marathon_testing.shape are not correct\"\n",
    "assert sha1(str(marathon_testing.shape).encode(\"utf-8\")+b\"e7ed1\").hexdigest() == \"fbf8329576ea0be968fbabcd4c5dd25a6d17c93a\", \"order of elements of marathon_testing.shape is not correct\"\n",
    "\n",
    "assert sha1(str(type(sum(marathon_testing.age))).encode(\"utf-8\")+b\"e7ed2\").hexdigest() == \"3d8e616c9608ebb5fa199e74614b680d59572017\", \"type of sum(marathon_testing.age) is not int. Please make sure it is int and not np.int64, etc. You can cast your value into an int using int()\"\n",
    "assert sha1(str(sum(marathon_testing.age)).encode(\"utf-8\")+b\"e7ed2\").hexdigest() == \"a666611338ec9b1d7c1df5146282bf710f1d54f6\", \"value of sum(marathon_testing.age) is not correct\"\n",
    "\n",
    "assert sha1(str(type(X_train.columns.values)).encode(\"utf-8\")+b\"e7ed3\").hexdigest() == \"d2af8b1f3ac36ff6af2a760a8b5cfa0388a5a272\", \"type of X_train.columns.values is not correct\"\n",
    "assert sha1(str(X_train.columns.values).encode(\"utf-8\")+b\"e7ed3\").hexdigest() == \"17be56c6e47e3d10712619e99b61a6d767fd5666\", \"value of X_train.columns.values is not correct\"\n",
    "\n",
    "assert sha1(str(type(X_train.shape)).encode(\"utf-8\")+b\"e7ed4\").hexdigest() == \"414b7eb138475c852d35f49fc6d280cb0f9a2a9f\", \"type of X_train.shape is not tuple. X_train.shape should be a tuple\"\n",
    "assert sha1(str(len(X_train.shape)).encode(\"utf-8\")+b\"e7ed4\").hexdigest() == \"73a0b26b8110b3197945c70b0650286285cec8d3\", \"length of X_train.shape is not correct\"\n",
    "assert sha1(str(sorted(map(str, X_train.shape))).encode(\"utf-8\")+b\"e7ed4\").hexdigest() == \"d74001495311d9550e27e96f7c560f5ed899dc2a\", \"values of X_train.shape are not correct\"\n",
    "assert sha1(str(X_train.shape).encode(\"utf-8\")+b\"e7ed4\").hexdigest() == \"f434b7539cfe664a9765b7bbb07e4709fc2491da\", \"order of elements of X_train.shape is not correct\"\n",
    "\n",
    "assert sha1(str(type(y_train.name)).encode(\"utf-8\")+b\"e7ed5\").hexdigest() == \"07fb7ee407cccab8c19809282e20aecb7bb62185\", \"type of y_train.name is not str. y_train.name should be an str\"\n",
    "assert sha1(str(len(y_train.name)).encode(\"utf-8\")+b\"e7ed5\").hexdigest() == \"c159bd913e413006f4be6da2dfb303dd974e4bbb\", \"length of y_train.name is not correct\"\n",
    "assert sha1(str(y_train.name.lower()).encode(\"utf-8\")+b\"e7ed5\").hexdigest() == \"a622136689ba01beab477abec3b4b37aa5e2f515\", \"value of y_train.name is not correct\"\n",
    "assert sha1(str(y_train.name).encode(\"utf-8\")+b\"e7ed5\").hexdigest() == \"a622136689ba01beab477abec3b4b37aa5e2f515\", \"correct string value of y_train.name but incorrect case of letters\"\n",
    "\n",
    "assert sha1(str(type(y_train.shape)).encode(\"utf-8\")+b\"e7ed6\").hexdigest() == \"22627a8f279315114f3a5f91de95da0d83389d79\", \"type of y_train.shape is not tuple. y_train.shape should be a tuple\"\n",
    "assert sha1(str(len(y_train.shape)).encode(\"utf-8\")+b\"e7ed6\").hexdigest() == \"c61d6dd0518678d74f5f69117e206324490517c6\", \"length of y_train.shape is not correct\"\n",
    "assert sha1(str(sorted(map(str, y_train.shape))).encode(\"utf-8\")+b\"e7ed6\").hexdigest() == \"775174c861c6ab54c4c08abf24b2bfebdb30af3f\", \"values of y_train.shape are not correct\"\n",
    "assert sha1(str(y_train.shape).encode(\"utf-8\")+b\"e7ed6\").hexdigest() == \"cead78c49de35c73a190c737d2bb46ff4e2fec23\", \"order of elements of y_train.shape is not correct\"\n",
    "\n",
    "assert sha1(str(type(X_test.columns.values)).encode(\"utf-8\")+b\"e7ed7\").hexdigest() == \"22fe9ec90a423d6060f49aa6d7a76ce3d3974080\", \"type of X_test.columns.values is not correct\"\n",
    "assert sha1(str(X_test.columns.values).encode(\"utf-8\")+b\"e7ed7\").hexdigest() == \"7754708b959b4274773a259f79fd376b28310eac\", \"value of X_test.columns.values is not correct\"\n",
    "\n",
    "assert sha1(str(type(X_test.shape)).encode(\"utf-8\")+b\"e7ed8\").hexdigest() == \"f0858d2513b6eee63f326fcebe57b013cd31df36\", \"type of X_test.shape is not tuple. X_test.shape should be a tuple\"\n",
    "assert sha1(str(len(X_test.shape)).encode(\"utf-8\")+b\"e7ed8\").hexdigest() == \"bd7fc6f3096017ac86fb06841d97ddd854492ed0\", \"length of X_test.shape is not correct\"\n",
    "assert sha1(str(sorted(map(str, X_test.shape))).encode(\"utf-8\")+b\"e7ed8\").hexdigest() == \"ef154c5dedbd48b6b6a3232c68a2fea5c9f7be4b\", \"values of X_test.shape are not correct\"\n",
    "assert sha1(str(X_test.shape).encode(\"utf-8\")+b\"e7ed8\").hexdigest() == \"3a6cfb0fce7e27384ffd615b58fb5cbd20a3d82b\", \"order of elements of X_test.shape is not correct\"\n",
    "\n",
    "assert sha1(str(type(y_test.name)).encode(\"utf-8\")+b\"e7ed9\").hexdigest() == \"72df4c655d030df71555b431f22397a7e42c0e38\", \"type of y_test.name is not str. y_test.name should be an str\"\n",
    "assert sha1(str(len(y_test.name)).encode(\"utf-8\")+b\"e7ed9\").hexdigest() == \"f164546779f465e2b62365d3ab3737c47eebf4d6\", \"length of y_test.name is not correct\"\n",
    "assert sha1(str(y_test.name.lower()).encode(\"utf-8\")+b\"e7ed9\").hexdigest() == \"3327e8ccb2ac8ed8cf1dad70018d6f95c820d712\", \"value of y_test.name is not correct\"\n",
    "assert sha1(str(y_test.name).encode(\"utf-8\")+b\"e7ed9\").hexdigest() == \"3327e8ccb2ac8ed8cf1dad70018d6f95c820d712\", \"correct string value of y_test.name but incorrect case of letters\"\n",
    "\n",
    "assert sha1(str(type(y_test.shape)).encode(\"utf-8\")+b\"e7eda\").hexdigest() == \"3caf58a1ec02a722090ad103cb12c17948c05ea8\", \"type of y_test.shape is not tuple. y_test.shape should be a tuple\"\n",
    "assert sha1(str(len(y_test.shape)).encode(\"utf-8\")+b\"e7eda\").hexdigest() == \"6bee5d9b7be7422e0080aec785993d4b1645979b\", \"length of y_test.shape is not correct\"\n",
    "assert sha1(str(sorted(map(str, y_test.shape))).encode(\"utf-8\")+b\"e7eda\").hexdigest() == \"b4518ece20f13e8647767347afffe9dbd285baf1\", \"values of y_test.shape are not correct\"\n",
    "assert sha1(str(y_test.shape).encode(\"utf-8\")+b\"e7eda\").hexdigest() == \"5ff9b39d3ce50b07b91aa77be609c2ec942f2dc3\", \"order of elements of y_test.shape is not correct\"\n",
    "\n",
    "print('Success!')"
   ]
  },
  {
   "cell_type": "markdown",
   "metadata": {
    "deletable": false,
    "editable": false,
    "nbgrader": {
     "cell_type": "markdown",
     "checksum": "4fd00f6a0b76b2844119efa7bd675c38",
     "grade": false,
     "grade_id": "cell-0c01c0b6cf4d8e91",
     "locked": false,
     "schema_version": 3,
     "solution": false,
     "task": false
    }
   },
   "source": [
    "**Question 7.0**\n",
    "<br> {points: 1}\n",
    "\n",
    "Next, we’ll use cross-validation on our **training data** to choose $k$. In $k$-nn classification, we used accuracy to see how well our predictions matched the true labels. In the context of $k$-nn *regression*, we will use RMSPE as the scoring instead. Interpreting the RMSPE value can be tricky but generally speaking, if the prediction values are very close to the true values, the RMSPE will be small. Conversely, if the prediction values are *not* very close to the true values, the RMSPE will be quite large. \n",
    "\n",
    "Let's perform a cross-validation and choose the optimal $k$!\n",
    "\n",
    "First, create a pipeline for $k$-nn. We are still using the $k$-nearest neighbours algorithm, and we will also use the `StandardScaler` to standardize the numerical values. Store your pipeline in an object called `marathon_pipe`. Finally, perform a cross-validation with 5 folds using the `cross_validate` function. Remember that since the `cross_validate` function always maximizes its \"score\", and here we're using RMSPE (lower is better!), we need to specify that we're using the *negative* RMSPE (`\"neg_root_mean_squared_error\"`).\n",
    "\n",
    "*Store the output of the cross validation as a data frame in an object called `marathon_cv`.*"
   ]
  },
  {
   "cell_type": "code",
   "execution_count": null,
   "metadata": {
    "deletable": false,
    "nbgrader": {
     "cell_type": "code",
     "checksum": "19be30edec8b71b3601d0b24ada2cbb2",
     "grade": false,
     "grade_id": "cell-766f1e094dd32efc",
     "locked": false,
     "schema_version": 3,
     "solution": true
    }
   },
   "outputs": [],
   "source": [
    "# ___ = make_pipeline(\n",
    "#     ___,\n",
    "#     ___,\n",
    "# )\n",
    "#\n",
    "# marathon_cv = pd.___(\n",
    "#     cross_validate(\n",
    "#         ___,\n",
    "#         ___,\n",
    "#         ___,\n",
    "#         scoring=___,\n",
    "#         return_train_score=True,\n",
    "#     )\n",
    "# )\n",
    "\n",
    "# your code here\n",
    "raise NotImplementedError\n",
    "marathon_cv"
   ]
  },
  {
   "cell_type": "code",
   "execution_count": null,
   "metadata": {
    "deletable": false,
    "editable": false,
    "nbgrader": {
     "cell_type": "code",
     "checksum": "26b793b9cc51d7c22794a39e849f68fc",
     "grade": true,
     "grade_id": "cell-289bc7a299c4f482",
     "locked": false,
     "points": 1,
     "schema_version": 3,
     "solution": false
    }
   },
   "outputs": [],
   "source": [
    "from hashlib import sha1\n",
    "assert sha1(str(type(marathon_pipe is None)).encode(\"utf-8\")+b\"8864c\").hexdigest() == \"25299b052f7ab2931046737631887a8cc568dbdc\", \"type of marathon_pipe is None is not bool. marathon_pipe is None should be a bool\"\n",
    "assert sha1(str(marathon_pipe is None).encode(\"utf-8\")+b\"8864c\").hexdigest() == \"e30f3e578a40c11694672cc29b9e8ed48e9b5b0a\", \"boolean value of marathon_pipe is None is not correct\"\n",
    "\n",
    "assert sha1(str(type(marathon_pipe.steps[1][1].n_neighbors)).encode(\"utf-8\")+b\"8864d\").hexdigest() == \"d547f76ed04d14a405bffd75b858fcadc01626b2\", \"type of marathon_pipe.steps[1][1].n_neighbors is not int. Please make sure it is int and not np.int64, etc. You can cast your value into an int using int()\"\n",
    "assert sha1(str(marathon_pipe.steps[1][1].n_neighbors).encode(\"utf-8\")+b\"8864d\").hexdigest() == \"06ffe53eaaff553f1311c56f2367fab086ff823e\", \"value of marathon_pipe.steps[1][1].n_neighbors is not correct\"\n",
    "\n",
    "assert sha1(str(type(marathon_pipe.steps[1][1].weights)).encode(\"utf-8\")+b\"8864e\").hexdigest() == \"58751697270ec924b2f324e1b5544996472be14f\", \"type of marathon_pipe.steps[1][1].weights is not str. marathon_pipe.steps[1][1].weights should be an str\"\n",
    "assert sha1(str(len(marathon_pipe.steps[1][1].weights)).encode(\"utf-8\")+b\"8864e\").hexdigest() == \"6cd5d1937d5b4571f3f6a7a4880af49e992de8a5\", \"length of marathon_pipe.steps[1][1].weights is not correct\"\n",
    "assert sha1(str(marathon_pipe.steps[1][1].weights.lower()).encode(\"utf-8\")+b\"8864e\").hexdigest() == \"ab385b8efd1b981d6c0200273e19c124f3e24308\", \"value of marathon_pipe.steps[1][1].weights is not correct\"\n",
    "assert sha1(str(marathon_pipe.steps[1][1].weights).encode(\"utf-8\")+b\"8864e\").hexdigest() == \"ab385b8efd1b981d6c0200273e19c124f3e24308\", \"correct string value of marathon_pipe.steps[1][1].weights but incorrect case of letters\"\n",
    "\n",
    "assert sha1(str(type(marathon_pipe.steps[0][1])).encode(\"utf-8\")+b\"8864f\").hexdigest() == \"974eac74a0ad1ee3ad51d33c86e4f23b9caac296\", \"type of marathon_pipe.steps[0][1] is not correct\"\n",
    "assert sha1(str(marathon_pipe.steps[0][1]).encode(\"utf-8\")+b\"8864f\").hexdigest() == \"88499ff4e2ed2a47e400d341106fb5b49551ed08\", \"value of marathon_pipe.steps[0][1] is not correct\"\n",
    "\n",
    "assert sha1(str(type(marathon_cv is None)).encode(\"utf-8\")+b\"88650\").hexdigest() == \"82c0b965cf5966540442e3581313923f152295a1\", \"type of marathon_cv is None is not bool. marathon_cv is None should be a bool\"\n",
    "assert sha1(str(marathon_cv is None).encode(\"utf-8\")+b\"88650\").hexdigest() == \"e0832f10224a7c3b8fc8349d63cbcc366639d036\", \"boolean value of marathon_cv is None is not correct\"\n",
    "\n",
    "assert sha1(str(type(len(marathon_cv['train_score']))).encode(\"utf-8\")+b\"88651\").hexdigest() == \"2da35ca4faddbf2b4b47152b40d1fbb51614153a\", \"type of len(marathon_cv['train_score']) is not int. Please make sure it is int and not np.int64, etc. You can cast your value into an int using int()\"\n",
    "assert sha1(str(len(marathon_cv['train_score'])).encode(\"utf-8\")+b\"88651\").hexdigest() == \"c03676f0aa4939eab9beb8cdd1e1ad156ceff2c0\", \"value of len(marathon_cv['train_score']) is not correct\"\n",
    "\n",
    "assert sha1(str(type(sum(marathon_cv['train_score']))).encode(\"utf-8\")+b\"88652\").hexdigest() == \"1f1dd6525f2a541022058c1c5c49ef08440be730\", \"type of sum(marathon_cv['train_score']) is not float. Please make sure it is float and not np.float64, etc. You can cast your value into a float using float()\"\n",
    "assert sha1(str(round(sum(marathon_cv['train_score']), 2)).encode(\"utf-8\")+b\"88652\").hexdigest() == \"5839a4484a5996becf1142a0c824e072abf9ae74\", \"value of sum(marathon_cv['train_score']) is not correct (rounded to 2 decimal places)\"\n",
    "\n",
    "assert sha1(str(type(sum(marathon_cv['test_score']))).encode(\"utf-8\")+b\"88653\").hexdigest() == \"b2d3d500fa919b6f72c5a9bfbac6ddf39984c89e\", \"type of sum(marathon_cv['test_score']) is not float. Please make sure it is float and not np.float64, etc. You can cast your value into a float using float()\"\n",
    "assert sha1(str(round(sum(marathon_cv['test_score']), 2)).encode(\"utf-8\")+b\"88653\").hexdigest() == \"ceafaaed8afb31ab587e60437edb7aee28aed3e5\", \"value of sum(marathon_cv['test_score']) is not correct (rounded to 2 decimal places)\"\n",
    "\n",
    "print('Success!')"
   ]
  },
  {
   "cell_type": "markdown",
   "metadata": {
    "deletable": false,
    "editable": false,
    "nbgrader": {
     "cell_type": "markdown",
     "checksum": "26a0c5f4ee389ac76334c430fb49d6ab",
     "grade": false,
     "grade_id": "cell-7cd5193eecc27c30",
     "locked": false,
     "schema_version": 3,
     "solution": false
    }
   },
   "source": [
    "**Question 8.0**\n",
    "<br> {points: 1}\n",
    "\n",
    "The major difference compared to other models from Chapters 6 and 7 is that we are running a *regression* rather than a *classification*. Using `KNeighborsRegressor` essentially tells `scikit-learn` that we need to use different metrics (`neg_root_mean_squared_error` rather than accuracy) for tuning and evaluation. \n",
    "\n",
    "Now, let's use the `neg_root_mean_squared_error` to find the best setting for $k$ from our model. Let's test 200 values of $k$. \n",
    "\n",
    "First, create a parameter grid called `param_grid` that contains values of range 1 to 200. \n",
    "\n",
    "Next, tune your model such that it tests all the values in `range(1, 201, 1)` using `GridSearchCV` function with `cv=5` and `n_jobs=-1` and save the tuned model as `marathon_tuned`. Finally, fit the tuned model to the training dataset and save the `cv_results_` in a dataframe. \n",
    "\n",
    "*Assign your answer to an object called `marathon_results`.*"
   ]
  },
  {
   "cell_type": "code",
   "execution_count": null,
   "metadata": {
    "deletable": false,
    "nbgrader": {
     "cell_type": "code",
     "checksum": "c31d761e4100b98b50b69cbec445cad9",
     "grade": false,
     "grade_id": "cell-8c7e7ded673d28ec",
     "locked": false,
     "schema_version": 3,
     "solution": true
    }
   },
   "outputs": [],
   "source": [
    "np.random.seed(2019) # DO NOT CHANGE\n",
    "\n",
    "# param_grid = _____\n",
    "# marathon_tuned = GridSearchCV(___, ___, ___, ___, ___)\n",
    "# marathon_results = pd.DataFrame(____.fit(____, ____).____)\n",
    "\n",
    "# your code here\n",
    "raise NotImplementedError\n",
    "marathon_results"
   ]
  },
  {
   "cell_type": "code",
   "execution_count": null,
   "metadata": {
    "deletable": false,
    "editable": false,
    "nbgrader": {
     "cell_type": "code",
     "checksum": "9d8c2145471357fcb872e0b617009f13",
     "grade": true,
     "grade_id": "cell-29d608ebfdd11366",
     "locked": false,
     "points": 1,
     "schema_version": 3,
     "solution": false
    }
   },
   "outputs": [],
   "source": [
    "from hashlib import sha1\n",
    "assert sha1(str(type(param_grid is None)).encode(\"utf-8\")+b\"d182e\").hexdigest() == \"ec7bcbea68f702395cdd5e67180936ae258a3f3c\", \"type of param_grid is None is not bool. param_grid is None should be a bool\"\n",
    "assert sha1(str(param_grid is None).encode(\"utf-8\")+b\"d182e\").hexdigest() == \"3cf3edd9eddd1b5c4500aa5b52869832b40083d9\", \"boolean value of param_grid is None is not correct\"\n",
    "\n",
    "assert sha1(str(type(param_grid)).encode(\"utf-8\")+b\"d182f\").hexdigest() == \"ace9aac86250e076a5706a6c94d179a856ffdd1e\", \"type of type(param_grid) is not correct\"\n",
    "\n",
    "assert sha1(str(type(\"kneighborsregressor__n_neighbors\" in param_grid)).encode(\"utf-8\")+b\"d1830\").hexdigest() == \"ff29e4faf0e45be91ef5484ace002565aebc17a8\", \"type of \\\"kneighborsregressor__n_neighbors\\\" in param_grid is not bool. \\\"kneighborsregressor__n_neighbors\\\" in param_grid should be a bool\"\n",
    "assert sha1(str(\"kneighborsregressor__n_neighbors\" in param_grid).encode(\"utf-8\")+b\"d1830\").hexdigest() == \"423cc17212d6b16b3a09484a00636ed40da12d0c\", \"boolean value of \\\"kneighborsregressor__n_neighbors\\\" in param_grid is not correct\"\n",
    "\n",
    "assert sha1(str(type(sum(i for i in param_grid['kneighborsregressor__n_neighbors']))).encode(\"utf-8\")+b\"d1831\").hexdigest() == \"e79769dca25d75ac1efdfd501a1a3e50a1248982\", \"type of sum(i for i in param_grid['kneighborsregressor__n_neighbors']) is not int. Please make sure it is int and not np.int64, etc. You can cast your value into an int using int()\"\n",
    "assert sha1(str(sum(i for i in param_grid['kneighborsregressor__n_neighbors'])).encode(\"utf-8\")+b\"d1831\").hexdigest() == \"3062f138a1709066561977581ee37b9da7187b8b\", \"value of sum(i for i in param_grid['kneighborsregressor__n_neighbors']) is not correct\"\n",
    "\n",
    "assert sha1(str(type(marathon_tuned is None)).encode(\"utf-8\")+b\"d1832\").hexdigest() == \"9f763278e96c032f901645614bcc433e19b6da21\", \"type of marathon_tuned is None is not bool. marathon_tuned is None should be a bool\"\n",
    "assert sha1(str(marathon_tuned is None).encode(\"utf-8\")+b\"d1832\").hexdigest() == \"802f7ddda999c610b46d5eefeaad353b41db1f11\", \"boolean value of marathon_tuned is None is not correct\"\n",
    "\n",
    "assert sha1(str(type(marathon_tuned.n_splits_)).encode(\"utf-8\")+b\"d1833\").hexdigest() == \"4ae49a96c27611edbdc55e4b6a0acdb6a0f4e361\", \"type of marathon_tuned.n_splits_ is not int. Please make sure it is int and not np.int64, etc. You can cast your value into an int using int()\"\n",
    "assert sha1(str(marathon_tuned.n_splits_).encode(\"utf-8\")+b\"d1833\").hexdigest() == \"03197f439ff046e0849de2e1ea68e5abf3a3227a\", \"value of marathon_tuned.n_splits_ is not correct\"\n",
    "\n",
    "assert sha1(str(type(marathon_tuned.estimator[0])).encode(\"utf-8\")+b\"d1834\").hexdigest() == \"d6e10402eebb0cf168b578048a88cb545603e32a\", \"type of marathon_tuned.estimator[0] is not correct\"\n",
    "assert sha1(str(marathon_tuned.estimator[0]).encode(\"utf-8\")+b\"d1834\").hexdigest() == \"f5465c5fbaa6f3239fc28a1ff25004895b6c5876\", \"value of marathon_tuned.estimator[0] is not correct\"\n",
    "\n",
    "assert sha1(str(type(marathon_tuned.estimator[1])).encode(\"utf-8\")+b\"d1835\").hexdigest() == \"16467dbeabfbbbb3e3f104b63615a61965d962b2\", \"type of marathon_tuned.estimator[1] is not correct\"\n",
    "assert sha1(str(marathon_tuned.estimator[1]).encode(\"utf-8\")+b\"d1835\").hexdigest() == \"bf022c71f2b7bd9757a0f4c333efd82fa9d5a235\", \"value of marathon_tuned.estimator[1] is not correct\"\n",
    "\n",
    "assert sha1(str(type(marathon_tuned.param_grid == param_grid)).encode(\"utf-8\")+b\"d1836\").hexdigest() == \"576f7dc516eea23c2e820127a7892ceea3d0dab5\", \"type of marathon_tuned.param_grid == param_grid is not bool. marathon_tuned.param_grid == param_grid should be a bool\"\n",
    "assert sha1(str(marathon_tuned.param_grid == param_grid).encode(\"utf-8\")+b\"d1836\").hexdigest() == \"681a7a81f3b2eb025a9461956a79a884370c9eed\", \"boolean value of marathon_tuned.param_grid == param_grid is not correct\"\n",
    "\n",
    "assert sha1(str(type(marathon_results is None)).encode(\"utf-8\")+b\"d1837\").hexdigest() == \"8689f96913286ecd30d823e848b7eb97d738c848\", \"type of marathon_results is None is not bool. marathon_results is None should be a bool\"\n",
    "assert sha1(str(marathon_results is None).encode(\"utf-8\")+b\"d1837\").hexdigest() == \"0d219c756c386807c0464fa0cee1b865a1200bac\", \"boolean value of marathon_results is None is not correct\"\n",
    "\n",
    "assert sha1(str(type(marathon_results)).encode(\"utf-8\")+b\"d1838\").hexdigest() == \"18ba9e44f8dde45008fd1011b189d83f547d79f3\", \"type of type(marathon_results) is not correct\"\n",
    "\n",
    "assert sha1(str(type(marathon_results.shape)).encode(\"utf-8\")+b\"d1839\").hexdigest() == \"21ab468813730121894ce75777b2e1fd48fdb5da\", \"type of marathon_results.shape is not tuple. marathon_results.shape should be a tuple\"\n",
    "assert sha1(str(len(marathon_results.shape)).encode(\"utf-8\")+b\"d1839\").hexdigest() == \"ad46a3a70676d9eb487222097e1246978dd107a0\", \"length of marathon_results.shape is not correct\"\n",
    "assert sha1(str(sorted(map(str, marathon_results.shape))).encode(\"utf-8\")+b\"d1839\").hexdigest() == \"702ab7880f169feb4a954839cfefe6ea051b42d1\", \"values of marathon_results.shape are not correct\"\n",
    "assert sha1(str(marathon_results.shape).encode(\"utf-8\")+b\"d1839\").hexdigest() == \"ac943869f441904a6bb3e649e3086382f6496051\", \"order of elements of marathon_results.shape is not correct\"\n",
    "\n",
    "assert sha1(str(type(sum(marathon_results.param_kneighborsregressor__n_neighbors))).encode(\"utf-8\")+b\"d183a\").hexdigest() == \"46aa9236ef14c7d42d2b7d92052c5c94af6cab15\", \"type of sum(marathon_results.param_kneighborsregressor__n_neighbors) is not int. Please make sure it is int and not np.int64, etc. You can cast your value into an int using int()\"\n",
    "assert sha1(str(sum(marathon_results.param_kneighborsregressor__n_neighbors)).encode(\"utf-8\")+b\"d183a\").hexdigest() == \"61a6b58502c1d2d00fb7a6a65c20cae775b189ff\", \"value of sum(marathon_results.param_kneighborsregressor__n_neighbors) is not correct\"\n",
    "\n",
    "assert sha1(str(type(sum(marathon_results.mean_test_score))).encode(\"utf-8\")+b\"d183b\").hexdigest() == \"eb6784ad9e0df0d3b20b0857d501db1797afe75c\", \"type of sum(marathon_results.mean_test_score) is not float. Please make sure it is float and not np.float64, etc. You can cast your value into a float using float()\"\n",
    "assert sha1(str(round(sum(marathon_results.mean_test_score), 2)).encode(\"utf-8\")+b\"d183b\").hexdigest() == \"5c2e32ca9aacc4f5726277288252ac363fcd924d\", \"value of sum(marathon_results.mean_test_score) is not correct (rounded to 2 decimal places)\"\n",
    "\n",
    "assert sha1(str(type(sum(marathon_results.std_test_score))).encode(\"utf-8\")+b\"d183c\").hexdigest() == \"a4c7c7e034abaadcaf56057d19893a773dbf8fb1\", \"type of sum(marathon_results.std_test_score) is not float. Please make sure it is float and not np.float64, etc. You can cast your value into a float using float()\"\n",
    "assert sha1(str(round(sum(marathon_results.std_test_score), 2)).encode(\"utf-8\")+b\"d183c\").hexdigest() == \"3000c4e4327bea85d84632c37db03bc1d008b2c0\", \"value of sum(marathon_results.std_test_score) is not correct (rounded to 2 decimal places)\"\n",
    "\n",
    "print('Success!')"
   ]
  },
  {
   "cell_type": "markdown",
   "metadata": {
    "deletable": false,
    "editable": false,
    "nbgrader": {
     "cell_type": "markdown",
     "checksum": "c7741d04bb74dbf6c518c14d4f9bccb0",
     "grade": false,
     "grade_id": "cell-35eaea9c384c5f6c",
     "locked": false,
     "schema_version": 3,
     "solution": false
    }
   },
   "source": [
    "**Question 8.1**\n",
    "<br> {points: 1}\n",
    "\n",
    "Great! Now find the number of neighbors that will serve as our best $k$ value by calling the `best_params_` attribute of the model `marathon_tuned`. Your answer should simply be a dictionary with one key-value pair. \n",
    "\n",
    "Also, find the score for the best model by calling the `best_score_` attribute of the model `marathon_tuned`. Make sure to convert the negative RMSPE score we used for cross-validation into a positive RMSPE score for reporting by using a `-` sign.\n",
    "\n",
    "*Assign your best parameters to an object called `marathon_min`, and assign your best RMSPE to an object called `marathon_best_RMSPE`.* \n"
   ]
  },
  {
   "cell_type": "code",
   "execution_count": null,
   "metadata": {
    "deletable": false,
    "nbgrader": {
     "cell_type": "code",
     "checksum": "d86b5cdee75a41caa88010256f2c42ef",
     "grade": false,
     "grade_id": "cell-f9738d45da9e8a77",
     "locked": false,
     "schema_version": 3,
     "solution": true
    }
   },
   "outputs": [],
   "source": [
    "# ___ = ___.best_params_\n",
    "# ___ = -___.best_score_\n",
    "\n",
    "# your code here\n",
    "raise NotImplementedError\n",
    "marathon_min"
   ]
  },
  {
   "cell_type": "code",
   "execution_count": null,
   "metadata": {
    "deletable": false,
    "editable": false,
    "nbgrader": {
     "cell_type": "code",
     "checksum": "17e17fc4f3ff2afda441dfc373e22a4e",
     "grade": false,
     "grade_id": "cell-b0dd9e2eb4743bab",
     "locked": false,
     "schema_version": 3,
     "solution": false,
     "task": false
    }
   },
   "outputs": [],
   "source": [
    "marathon_best_RMSPE"
   ]
  },
  {
   "cell_type": "code",
   "execution_count": null,
   "metadata": {
    "deletable": false,
    "editable": false,
    "nbgrader": {
     "cell_type": "code",
     "checksum": "18e95c8a4dd3ad559c29dd3fd147c2d1",
     "grade": true,
     "grade_id": "cell-a1e34e1fb62d79f5",
     "locked": false,
     "points": 1,
     "schema_version": 3,
     "solution": false
    }
   },
   "outputs": [],
   "source": [
    "from hashlib import sha1\n",
    "assert sha1(str(type(marathon_min is None)).encode(\"utf-8\")+b\"9ae42\").hexdigest() == \"2feff5d755380f5a1f50804a0c4948d723261eda\", \"type of marathon_min is None is not bool. marathon_min is None should be a bool\"\n",
    "assert sha1(str(marathon_min is None).encode(\"utf-8\")+b\"9ae42\").hexdigest() == \"5015b9976a1f2e2f2fa109305796f1e1702ba164\", \"boolean value of marathon_min is None is not correct\"\n",
    "\n",
    "assert sha1(str(type(marathon_min)).encode(\"utf-8\")+b\"9ae43\").hexdigest() == \"b4658974ee290076b30642296bffc395bf445d21\", \"type of type(marathon_min) is not correct\"\n",
    "\n",
    "assert sha1(str(type(marathon_min)).encode(\"utf-8\")+b\"9ae44\").hexdigest() == \"3040f94c545ff413539332503528deab08084a62\", \"type of marathon_min is not dict. marathon_min should be a dict\"\n",
    "assert sha1(str(len(list(marathon_min.keys()))).encode(\"utf-8\")+b\"9ae44\").hexdigest() == \"84224507b5177db8e9c88f5abd8824ece22645b8\", \"number of keys of marathon_min is not correct\"\n",
    "assert sha1(str(sorted(map(str, marathon_min.keys()))).encode(\"utf-8\")+b\"9ae44\").hexdigest() == \"edf882d0536918e0a683172498fcad8c63f6af3c\", \"keys of marathon_min are not correct\"\n",
    "assert sha1(str(sorted(map(str, marathon_min.values()))).encode(\"utf-8\")+b\"9ae44\").hexdigest() == \"c3bca7dfbca0e41a87d4ff3e43c335504e37caeb\", \"correct keys, but values of marathon_min are not correct\"\n",
    "assert sha1(str(marathon_min).encode(\"utf-8\")+b\"9ae44\").hexdigest() == \"80961d32128e4ca9746e99318dd97c9ed04c317f\", \"correct keys and values, but incorrect correspondence in keys and values of marathon_min\"\n",
    "\n",
    "assert sha1(str(type(marathon_best_RMSPE is None)).encode(\"utf-8\")+b\"9ae45\").hexdigest() == \"487be9299591e548ea7dcedef4c4e650814148d2\", \"type of marathon_best_RMSPE is None is not bool. marathon_best_RMSPE is None should be a bool\"\n",
    "assert sha1(str(marathon_best_RMSPE is None).encode(\"utf-8\")+b\"9ae45\").hexdigest() == \"84ef8bfc80a388930431187a4d0640f62e727b78\", \"boolean value of marathon_best_RMSPE is None is not correct\"\n",
    "\n",
    "assert sha1(str(type(marathon_best_RMSPE)).encode(\"utf-8\")+b\"9ae46\").hexdigest() == \"78a416ab0e296d01fb1307a654bf9b70b1337868\", \"type of marathon_best_RMSPE is not correct\"\n",
    "assert sha1(str(marathon_best_RMSPE).encode(\"utf-8\")+b\"9ae46\").hexdigest() == \"8785f764d752095decf87a8dd24909d0016992f7\", \"value of marathon_best_RMSPE is not correct\"\n",
    "\n",
    "print('Success!')"
   ]
  },
  {
   "cell_type": "markdown",
   "metadata": {
    "deletable": false,
    "editable": false,
    "nbgrader": {
     "cell_type": "markdown",
     "checksum": "aa8abd5ef20ec9ab38ae4d8705bd15c7",
     "grade": false,
     "grade_id": "cell-28a414eb59f5ae20",
     "locked": false,
     "schema_version": 3,
     "solution": false
    }
   },
   "source": [
    "**Question 8.2**\n",
    "<br> {points: 1}\n",
    "\n",
    "To assess how well our model might do at predicting on unseen data, we will assess its RMSPE on the test data.\n",
    "\n",
    "We will use the predict function to make predictions on the test data and store the predictions `marathon_prediction`. Remember that `GridSearchCV` automatically refits the model with the best found parameters, so you can use the `predict` method of the `marathon_tuned` variable for this step.\n",
    "\n",
    "Finally, we will compute the RMSPE on the test data using the `mean_squared_error` function. Don't forget to take the square root to obtain the RMSPE!\n",
    "\n",
    "*Note: `scikit-learn` also has a `score` function for the `KNeighborsRegressor`. The `score` function returns the coefficient of determination (often called $R^2$) of the fit, not the RMSPE.*\n",
    "\n",
    "\n",
    "*Assign your answer in an object called `marathon_summary`.*\n"
   ]
  },
  {
   "cell_type": "code",
   "execution_count": null,
   "metadata": {
    "deletable": false,
    "nbgrader": {
     "cell_type": "code",
     "checksum": "231e9a9aad23a5fac955ed2a8287ebbf",
     "grade": false,
     "grade_id": "cell-a4de6046a0bd5f96",
     "locked": false,
     "schema_version": 3,
     "solution": true
    }
   },
   "outputs": [],
   "source": [
    "np.random.seed(1234) # DO NOT CHANGE\n",
    "\n",
    "# ___ = ___.___(___)\n",
    "# ___ = mean_squared_error(___, ___)**(1/2)\n",
    "\n",
    "\n",
    "# your code here\n",
    "raise NotImplementedError\n",
    "marathon_summary"
   ]
  },
  {
   "cell_type": "code",
   "execution_count": null,
   "metadata": {
    "deletable": false,
    "editable": false,
    "nbgrader": {
     "cell_type": "code",
     "checksum": "a20e2b36367ee4b66e70018ceaf71dc3",
     "grade": true,
     "grade_id": "cell-94fab75dca459b65",
     "locked": false,
     "points": 1,
     "schema_version": 3,
     "solution": false
    }
   },
   "outputs": [],
   "source": [
    "from hashlib import sha1\n",
    "assert sha1(str(type(marathon_prediction is None)).encode(\"utf-8\")+b\"5e675\").hexdigest() == \"e171ec8a4f6e825d47e43ba2c8d7e4962ff2f8b4\", \"type of marathon_prediction is None is not bool. marathon_prediction is None should be a bool\"\n",
    "assert sha1(str(marathon_prediction is None).encode(\"utf-8\")+b\"5e675\").hexdigest() == \"c76b30dacb294c54dc2932240aa7fa4c23543c56\", \"boolean value of marathon_prediction is None is not correct\"\n",
    "\n",
    "assert sha1(str(type(marathon_prediction)).encode(\"utf-8\")+b\"5e676\").hexdigest() == \"be3ffc123e07105d4089655588fb6d71383eb08d\", \"type of type(marathon_prediction) is not correct\"\n",
    "\n",
    "assert sha1(str(type(marathon_prediction.sum())).encode(\"utf-8\")+b\"5e677\").hexdigest() == \"d3da4b9915f115587058740bd3c406c49cbf5b2c\", \"type of marathon_prediction.sum() is not correct\"\n",
    "assert sha1(str(marathon_prediction.sum()).encode(\"utf-8\")+b\"5e677\").hexdigest() == \"8c10d2be9c82e2bdbdcd44f3fbb35f6c102d0119\", \"value of marathon_prediction.sum() is not correct\"\n",
    "\n",
    "assert sha1(str(type(marathon_summary is None)).encode(\"utf-8\")+b\"5e678\").hexdigest() == \"1581c288216e96bfb8d0fcc29cf60c18dd92909b\", \"type of marathon_summary is None is not bool. marathon_summary is None should be a bool\"\n",
    "assert sha1(str(marathon_summary is None).encode(\"utf-8\")+b\"5e678\").hexdigest() == \"6f8e105f98933eb6b68dbbb0f78058a8ac9dd80a\", \"boolean value of marathon_summary is None is not correct\"\n",
    "\n",
    "assert sha1(str(type(marathon_summary)).encode(\"utf-8\")+b\"5e679\").hexdigest() == \"ba12bad71525a497b68612abadf62fd2a05b9230\", \"type of marathon_summary is not correct\"\n",
    "assert sha1(str(marathon_summary).encode(\"utf-8\")+b\"5e679\").hexdigest() == \"ecbf8a32ee6fde067052e0cf254aaf3b674d001f\", \"value of marathon_summary is not correct\"\n",
    "\n",
    "print('Success!')"
   ]
  },
  {
   "cell_type": "markdown",
   "metadata": {
    "deletable": false,
    "editable": false,
    "nbgrader": {
     "cell_type": "markdown",
     "checksum": "916cfae57b2ffacb39d11610af802680",
     "grade": false,
     "grade_id": "cell-dffef3173aff9b72",
     "locked": false,
     "schema_version": 3,
     "solution": false,
     "task": false
    }
   },
   "source": [
    "What does this RMSPE mean? RMSPE is measured in the units of the target/response variable, so it can sometimes be a bit hard to interpret. In this case, we have a helpful reference to compare against: we know that a typical marathon race time is somewhere between 3 - 5 hours. So this model allows us to predict a runner's race time up to about +/-0.6 of an hour, or +/- 36 minutes. Relative the total race time, this margin of error is not *fantastic*, but not *terrible* either. We can certainly use the model to determine roughly whether an athlete will have a bad, good, or excellent race time, but probably cannot reliably distinguish between athletes of a similar caliber.\n",
    "\n",
    "For now, let’s consider this approach to thinking about RMSPE from our testing data set: as long as it's not significantly worse than the cross-validation RMSPE of our best model (**Question 8.1**), then we can say that we’re not doing too much worse on the test data than we did on the training data. In future courses on statistical/machine learning, you will learn more about how to interpret RMSPE from testing data and other ways to assess models.  "
   ]
  },
  {
   "cell_type": "markdown",
   "metadata": {
    "deletable": false,
    "editable": false,
    "nbgrader": {
     "cell_type": "markdown",
     "checksum": "7a897402fd703010fe30e1523087aac7",
     "grade": false,
     "grade_id": "cell-ed97bb769cc923e5",
     "locked": false,
     "schema_version": 3,
     "solution": false,
     "task": false
    }
   },
   "source": [
    "**Question 8.3**\n",
    "<br>{points: 1}\n",
    "\n",
    "The RMSPE from our testing data set is *much worse* than the cross-validation RMSPE of our best model. \n",
    "\n",
    "*Assign your answer to an object named `answer8_3`. Make sure your answer is either `True` or `False`.*"
   ]
  },
  {
   "cell_type": "code",
   "execution_count": null,
   "metadata": {
    "deletable": false,
    "nbgrader": {
     "cell_type": "code",
     "checksum": "26215e2be064314a108b179eedbf1505",
     "grade": false,
     "grade_id": "cell-24ccc13552b0fff1",
     "locked": false,
     "schema_version": 3,
     "solution": true,
     "task": false
    }
   },
   "outputs": [],
   "source": [
    "# your code here\n",
    "raise NotImplementedError"
   ]
  },
  {
   "cell_type": "code",
   "execution_count": null,
   "metadata": {
    "deletable": false,
    "editable": false,
    "nbgrader": {
     "cell_type": "code",
     "checksum": "0295e3c617a3641783400610f991da00",
     "grade": true,
     "grade_id": "cell-f39ed1223c189ec6",
     "locked": false,
     "points": 1,
     "schema_version": 3,
     "solution": false,
     "task": false
    }
   },
   "outputs": [],
   "source": [
    "from hashlib import sha1\n",
    "assert sha1(str(type(answer8_3)).encode(\"utf-8\")+b\"a3e08\").hexdigest() == \"b07290d0d5a5f7304386a6085d09604c57fe55d4\", \"type of answer8_3 is not bool. answer8_3 should be a bool\"\n",
    "assert sha1(str(answer8_3).encode(\"utf-8\")+b\"a3e08\").hexdigest() == \"0fd0dee1f68a3e7794645e623f2b2be2db15b5cf\", \"boolean value of answer8_3 is not correct\"\n",
    "\n",
    "print('Success!')"
   ]
  },
  {
   "cell_type": "markdown",
   "metadata": {
    "deletable": false,
    "editable": false,
    "nbgrader": {
     "cell_type": "markdown",
     "checksum": "91c371815f8521c3f43e3f0bfe407f84",
     "grade": false,
     "grade_id": "cell-f527fba0cc1ca89d",
     "locked": false,
     "schema_version": 3,
     "solution": false
    }
   },
   "source": [
    "**Question 9.0**\n",
    "<br> {points: 1}\n",
    "\n",
    "Let's visualize what the relationship between `max` and `time_hrs` looks like with our best $k$ value to ultimately explore how the $k$ value affects $k$-nn regression.\n",
    "\n",
    "To do so, use the `predict` function on `marathon_tuned` to use the model with the best $K$ value to create predictions for the `marathon_training` data. Then, add the column of predictions to the `marathon_training` data frame using the `assign` function. Name the resulting data frame `marathon_preds` and the new column `predictions`.\n",
    "\n",
    "Next, create a scatterplot with the marathon time (y-axis) against the maximum distance run per week (x-axis) from `marathon_preds`. Use `mark_circle` with an opacity of 0.4 to avoid overplotting. Assign your plot to a variable called `marathon_plot`. **Plot the predictions as a black line over the data points.** Remember the fundamentals of effective visualizations such as having a human-readable axes titles. \n",
    "\n",
    "*Assign the data frame from the first part to a variable called `marathon_preds`, and the plot to a variable called `marathon_plot`.*"
   ]
  },
  {
   "cell_type": "code",
   "execution_count": null,
   "metadata": {
    "deletable": false,
    "nbgrader": {
     "cell_type": "code",
     "checksum": "e740adac0cff3905a99f571b55640aee",
     "grade": false,
     "grade_id": "cell-e623a65f902a7e98",
     "locked": false,
     "schema_version": 3,
     "solution": true
    }
   },
   "outputs": [],
   "source": [
    "np.random.seed(2019) # DO NOT CHANGE\n",
    "\n",
    "# marathon_preds = ____.assign(\n",
    "#     predictions= _____.predict(____)\n",
    "# )\n",
    "# marathon_plot = ___\n",
    "\n",
    "# your code here\n",
    "raise NotImplementedError\n",
    "marathon_plot"
   ]
  },
  {
   "cell_type": "code",
   "execution_count": null,
   "metadata": {
    "deletable": false,
    "editable": false,
    "nbgrader": {
     "cell_type": "code",
     "checksum": "b7b8240f95f1bac98e79ee90b5df6b6c",
     "grade": true,
     "grade_id": "cell-5eff9c974a058bdf",
     "locked": false,
     "points": 1,
     "schema_version": 3,
     "solution": false
    }
   },
   "outputs": [],
   "source": [
    "from hashlib import sha1\n",
    "assert sha1(str(type(marathon_preds is None)).encode(\"utf-8\")+b\"80ef7\").hexdigest() == \"feb8d8685b9e26c54c06aaf7f0f281aee880c614\", \"type of marathon_preds is None is not bool. marathon_preds is None should be a bool\"\n",
    "assert sha1(str(marathon_preds is None).encode(\"utf-8\")+b\"80ef7\").hexdigest() == \"bc57fae1eae5ffdeeeada5122d0bb66260bd0ac6\", \"boolean value of marathon_preds is None is not correct\"\n",
    "\n",
    "assert sha1(str(type(marathon_preds)).encode(\"utf-8\")+b\"80ef8\").hexdigest() == \"5246d7fd78d900c1aaed511af4b93a395c8f8f6b\", \"type of type(marathon_preds) is not correct\"\n",
    "\n",
    "assert sha1(str(type(marathon_preds.shape)).encode(\"utf-8\")+b\"80ef9\").hexdigest() == \"47500ac86a3aa4df2352b61411ba2c643b26a21b\", \"type of marathon_preds.shape is not tuple. marathon_preds.shape should be a tuple\"\n",
    "assert sha1(str(len(marathon_preds.shape)).encode(\"utf-8\")+b\"80ef9\").hexdigest() == \"c1dee5594a1047ae527ce7ff6fd93c09f5d7087f\", \"length of marathon_preds.shape is not correct\"\n",
    "assert sha1(str(sorted(map(str, marathon_preds.shape))).encode(\"utf-8\")+b\"80ef9\").hexdigest() == \"45e6ce598dd4b9a99a59cd85e2bc95e4e6dcfa1d\", \"values of marathon_preds.shape are not correct\"\n",
    "assert sha1(str(marathon_preds.shape).encode(\"utf-8\")+b\"80ef9\").hexdigest() == \"8b0e8a50ed15369143176e9e9a444fb85a94925f\", \"order of elements of marathon_preds.shape is not correct\"\n",
    "\n",
    "assert sha1(str(type(\"predictions\" in marathon_preds.columns)).encode(\"utf-8\")+b\"80efa\").hexdigest() == \"bee6c28399c272e11c7b36d6af56c340b73f5de9\", \"type of \\\"predictions\\\" in marathon_preds.columns is not bool. \\\"predictions\\\" in marathon_preds.columns should be a bool\"\n",
    "assert sha1(str(\"predictions\" in marathon_preds.columns).encode(\"utf-8\")+b\"80efa\").hexdigest() == \"bb01defbd41c2fca442d129ecde3d06ba69c793e\", \"boolean value of \\\"predictions\\\" in marathon_preds.columns is not correct\"\n",
    "\n",
    "assert sha1(str(type(sum(marathon_preds.predictions))).encode(\"utf-8\")+b\"80efb\").hexdigest() == \"6694cadf894375ec79d08d843730bfa2ebeaa247\", \"type of sum(marathon_preds.predictions) is not float. Please make sure it is float and not np.float64, etc. You can cast your value into a float using float()\"\n",
    "assert sha1(str(round(sum(marathon_preds.predictions), 2)).encode(\"utf-8\")+b\"80efb\").hexdigest() == \"14d7241b6832fe96cee98179e0bfbab800123337\", \"value of sum(marathon_preds.predictions) is not correct (rounded to 2 decimal places)\"\n",
    "\n",
    "assert sha1(str(type(sum(marathon_preds.time_hrs))).encode(\"utf-8\")+b\"80efc\").hexdigest() == \"32fcb9d092fe59373b115cd2156579052d4bb724\", \"type of sum(marathon_preds.time_hrs) is not float. Please make sure it is float and not np.float64, etc. You can cast your value into a float using float()\"\n",
    "assert sha1(str(round(sum(marathon_preds.time_hrs), 2)).encode(\"utf-8\")+b\"80efc\").hexdigest() == \"de864616f527a3484c98bc8e5ce5448442b3c180\", \"value of sum(marathon_preds.time_hrs) is not correct (rounded to 2 decimal places)\"\n",
    "\n",
    "assert sha1(str(type(marathon_plot is None)).encode(\"utf-8\")+b\"80efd\").hexdigest() == \"7802ca930a377d22b91bda34749b3473ae40ce6b\", \"type of marathon_plot is None is not bool. marathon_plot is None should be a bool\"\n",
    "assert sha1(str(marathon_plot is None).encode(\"utf-8\")+b\"80efd\").hexdigest() == \"6080493d69f4752d4f838318c797543ab4092182\", \"boolean value of marathon_plot is None is not correct\"\n",
    "\n",
    "assert sha1(str(type(len(marathon_plot.layer))).encode(\"utf-8\")+b\"80efe\").hexdigest() == \"f5cd3e76aff8db41831d68252d099f01b5af0eeb\", \"type of len(marathon_plot.layer) is not int. Please make sure it is int and not np.int64, etc. You can cast your value into an int using int()\"\n",
    "assert sha1(str(len(marathon_plot.layer)).encode(\"utf-8\")+b\"80efe\").hexdigest() == \"791ae34b7ef2c822983fb1c67241cccbe65ce087\", \"value of len(marathon_plot.layer) is not correct\"\n",
    "\n",
    "assert sha1(str(type(marathon_plot.layer[0].mark)).encode(\"utf-8\")+b\"80eff\").hexdigest() == \"31988f4df3bdd784d531d340494800d13f512ec8\", \"type of marathon_plot.layer[0].mark is not correct\"\n",
    "assert sha1(str(marathon_plot.layer[0].mark).encode(\"utf-8\")+b\"80eff\").hexdigest() == \"833d54d5fea79d6426472768c3753a1d3e2aab10\", \"value of marathon_plot.layer[0].mark is not correct\"\n",
    "\n",
    "assert sha1(str(type(marathon_plot.layer[1].mark)).encode(\"utf-8\")+b\"80f00\").hexdigest() == \"afb1d5a9e3ef12f0c2f446d06cc34948eac7babc\", \"type of marathon_plot.layer[1].mark is not correct\"\n",
    "assert sha1(str(marathon_plot.layer[1].mark).encode(\"utf-8\")+b\"80f00\").hexdigest() == \"50a72f4524c38645971c4b6a9df41dc1257a95c3\", \"value of marathon_plot.layer[1].mark is not correct\"\n",
    "\n",
    "assert sha1(str(type(marathon_plot.layer[0].encoding.x['shorthand'])).encode(\"utf-8\")+b\"80f01\").hexdigest() == \"6a6854dca69a83d48caec2cba6e1338a14a346fb\", \"type of marathon_plot.layer[0].encoding.x['shorthand'] is not str. marathon_plot.layer[0].encoding.x['shorthand'] should be an str\"\n",
    "assert sha1(str(len(marathon_plot.layer[0].encoding.x['shorthand'])).encode(\"utf-8\")+b\"80f01\").hexdigest() == \"e63a8532d269c7f5a36c4d9e504de2fe4993dd7f\", \"length of marathon_plot.layer[0].encoding.x['shorthand'] is not correct\"\n",
    "assert sha1(str(marathon_plot.layer[0].encoding.x['shorthand'].lower()).encode(\"utf-8\")+b\"80f01\").hexdigest() == \"1bd0afc1bf2c4a34122b26e13c975a1f3463b0b9\", \"value of marathon_plot.layer[0].encoding.x['shorthand'] is not correct\"\n",
    "assert sha1(str(marathon_plot.layer[0].encoding.x['shorthand']).encode(\"utf-8\")+b\"80f01\").hexdigest() == \"1bd0afc1bf2c4a34122b26e13c975a1f3463b0b9\", \"correct string value of marathon_plot.layer[0].encoding.x['shorthand'] but incorrect case of letters\"\n",
    "\n",
    "assert sha1(str(type(marathon_plot.layer[0].encoding.y['shorthand'])).encode(\"utf-8\")+b\"80f02\").hexdigest() == \"f9dc36ce988a73cb1cb0b471255c1e10e4d91094\", \"type of marathon_plot.layer[0].encoding.y['shorthand'] is not str. marathon_plot.layer[0].encoding.y['shorthand'] should be an str\"\n",
    "assert sha1(str(len(marathon_plot.layer[0].encoding.y['shorthand'])).encode(\"utf-8\")+b\"80f02\").hexdigest() == \"6ce890fc97b51c036be327421ff4134099ff5209\", \"length of marathon_plot.layer[0].encoding.y['shorthand'] is not correct\"\n",
    "assert sha1(str(marathon_plot.layer[0].encoding.y['shorthand'].lower()).encode(\"utf-8\")+b\"80f02\").hexdigest() == \"5afe1d7a1dd51c71a80027335b5a7b623548ea9e\", \"value of marathon_plot.layer[0].encoding.y['shorthand'] is not correct\"\n",
    "assert sha1(str(marathon_plot.layer[0].encoding.y['shorthand']).encode(\"utf-8\")+b\"80f02\").hexdigest() == \"5afe1d7a1dd51c71a80027335b5a7b623548ea9e\", \"correct string value of marathon_plot.layer[0].encoding.y['shorthand'] but incorrect case of letters\"\n",
    "\n",
    "assert sha1(str(type(marathon_plot.layer[1].encoding.y['shorthand'])).encode(\"utf-8\")+b\"80f03\").hexdigest() == \"32deb9ef407143db608af31b29a3adedbc08ca59\", \"type of marathon_plot.layer[1].encoding.y['shorthand'] is not str. marathon_plot.layer[1].encoding.y['shorthand'] should be an str\"\n",
    "assert sha1(str(len(marathon_plot.layer[1].encoding.y['shorthand'])).encode(\"utf-8\")+b\"80f03\").hexdigest() == \"457b359edc893e20adf144c86cf19d1a75746764\", \"length of marathon_plot.layer[1].encoding.y['shorthand'] is not correct\"\n",
    "assert sha1(str(marathon_plot.layer[1].encoding.y['shorthand'].lower()).encode(\"utf-8\")+b\"80f03\").hexdigest() == \"91b908c0622ce400d6464a25c58cb64b9b250011\", \"value of marathon_plot.layer[1].encoding.y['shorthand'] is not correct\"\n",
    "assert sha1(str(marathon_plot.layer[1].encoding.y['shorthand']).encode(\"utf-8\")+b\"80f03\").hexdigest() == \"91b908c0622ce400d6464a25c58cb64b9b250011\", \"correct string value of marathon_plot.layer[1].encoding.y['shorthand'] but incorrect case of letters\"\n",
    "\n",
    "assert sha1(str(type(isinstance(marathon_plot.layer[0].encoding.x['title'], str))).encode(\"utf-8\")+b\"80f04\").hexdigest() == \"6a9334f3b0f6f1f0d22d19bec2755550c05f1b9b\", \"type of isinstance(marathon_plot.layer[0].encoding.x['title'], str) is not bool. isinstance(marathon_plot.layer[0].encoding.x['title'], str) should be a bool\"\n",
    "assert sha1(str(isinstance(marathon_plot.layer[0].encoding.x['title'], str)).encode(\"utf-8\")+b\"80f04\").hexdigest() == \"3902db8b41319e78ddf41fae51a6625a43b54f01\", \"boolean value of isinstance(marathon_plot.layer[0].encoding.x['title'], str) is not correct\"\n",
    "\n",
    "assert sha1(str(type(isinstance(marathon_plot.layer[0].encoding.y['title'], str))).encode(\"utf-8\")+b\"80f05\").hexdigest() == \"523124c5efd969114f88146347e99ccc8593d726\", \"type of isinstance(marathon_plot.layer[0].encoding.y['title'], str) is not bool. isinstance(marathon_plot.layer[0].encoding.y['title'], str) should be a bool\"\n",
    "assert sha1(str(isinstance(marathon_plot.layer[0].encoding.y['title'], str)).encode(\"utf-8\")+b\"80f05\").hexdigest() == \"43ecd7181832f23dda45839dbbd29bdbaabcd0b5\", \"boolean value of isinstance(marathon_plot.layer[0].encoding.y['title'], str) is not correct\"\n",
    "\n",
    "print('Success!')"
   ]
  }
 ],
 "metadata": {
  "jupytext": {
   "encoding": "# -*- coding: utf-8 -*-"
  },
  "kernelspec": {
   "display_name": "Python 3.11.4 - rstudio",
   "language": "python",
   "name": "rstudio-user-3.11.4"
  },
  "language_info": {
   "codemirror_mode": {
    "name": "ipython",
    "version": 3
   },
   "file_extension": ".py",
   "mimetype": "text/x-python",
   "name": "python",
   "nbconvert_exporter": "python",
   "pygments_lexer": "ipython3",
   "version": "3.11.5"
  }
 },
 "nbformat": 4,
 "nbformat_minor": 4
}
