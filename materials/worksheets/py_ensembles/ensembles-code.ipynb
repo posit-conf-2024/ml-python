{
 "cells": [
  {
   "cell_type": "markdown",
   "id": "fe98232d-9e52-4706-a46f-26d6720529c0",
   "metadata": {},
   "source": [
    "## Tree-based and ensemble models\n",
    "\n",
    "Code from the slides in an executable notebook."
   ]
  },
  {
   "cell_type": "markdown",
   "id": "e123f3dd-ca33-433b-abc0-f848972e1f13",
   "metadata": {},
   "source": [
    "## Example: the heart data set"
   ]
  },
  {
   "cell_type": "code",
   "execution_count": null,
   "id": "2d9b0a5f-ed85-41ff-9b72-0e1b349b4977",
   "metadata": {},
   "outputs": [],
   "source": [
    "import pandas as pd\n",
    "heart = pd.read_csv(\"data/Heart.csv\", index_col=0)\n",
    "heart.info()"
   ]
  },
  {
   "cell_type": "code",
   "execution_count": null,
   "id": "55bc7fdb-5e97-4d2f-9a49-90fc23171f76",
   "metadata": {},
   "outputs": [],
   "source": [
    "heart.head()"
   ]
  },
  {
   "cell_type": "markdown",
   "id": "2210018b-20cf-4a68-818c-080594acc1aa",
   "metadata": {},
   "source": [
    "## Do we have a class imbalance?"
   ]
  },
  {
   "cell_type": "code",
   "execution_count": null,
   "id": "a6ba8235-263f-461b-93c3-f80da44cffdf",
   "metadata": {},
   "outputs": [],
   "source": [
    "heart['AHD'].value_counts(normalize=True)"
   ]
  },
  {
   "cell_type": "markdown",
   "id": "b2e31106-2cc0-450a-aec9-c67864813d17",
   "metadata": {},
   "source": [
    "## Data splitting"
   ]
  },
  {
   "cell_type": "code",
   "execution_count": null,
   "id": "6cb25bc8-224c-4ebb-a2aa-d0554b546f30",
   "metadata": {},
   "outputs": [],
   "source": [
    "import numpy as np\n",
    "from sklearn.model_selection import train_test_split\n",
    "\n",
    "np.random.seed(2024)\n",
    "\n",
    "heart_train, heart_test = train_test_split(\n",
    "    heart, train_size=0.8, stratify=heart[\"AHD\"]\n",
    ")\n",
    "\n",
    "X_train = heart_train.drop(columns=['AHD'])\n",
    "y_train = heart_train['AHD']\n",
    "X_test = heart_test.drop(columns=['AHD'])\n",
    "y_test = heart_test['AHD']"
   ]
  },
  {
   "cell_type": "markdown",
   "id": "30d784e0-d6f7-4f3f-b816-33ae2eef8089",
   "metadata": {},
   "source": [
    "## One hot encoding & pre-processing"
   ]
  },
  {
   "cell_type": "code",
   "execution_count": null,
   "id": "71412c2d-66fa-409c-b153-630367fc48de",
   "metadata": {},
   "outputs": [],
   "source": [
    "from sklearn.preprocessing import StandardScaler, OneHotEncoder\n",
    "from sklearn.compose import make_column_transformer, make_column_selector\n",
    "\n",
    "numeric_feats = ['Age', 'RestBP', 'Chol', 'RestECG', 'MaxHR', 'Oldpeak','Slope', 'Ca']\n",
    "passthrough_feats = ['Sex', 'Fbs', 'ExAng']\n",
    "categorical_feats = ['ChestPain', 'Thal']\n",
    "\n",
    "heart_preprocessor = make_column_transformer(\n",
    "    (StandardScaler(), numeric_feats), \n",
    "    (\"passthrough\", passthrough_feats),     \n",
    "    (OneHotEncoder(handle_unknown = \"ignore\"), categorical_feats),     \n",
    ")"
   ]
  },
  {
   "cell_type": "markdown",
   "id": "49b20bf0-2532-480e-8284-100a5a9afaa9",
   "metadata": {},
   "source": [
    "## Fitting a dummy classifier"
   ]
  },
  {
   "cell_type": "code",
   "execution_count": null,
   "id": "89b3c4e5-08ca-4d0d-b97d-5f61da64c27e",
   "metadata": {},
   "outputs": [],
   "source": [
    "from sklearn.dummy import DummyClassifier\n",
    "from sklearn.pipeline import make_pipeline\n",
    "from sklearn.model_selection import cross_validate\n",
    "\n",
    "dummy = DummyClassifier()\n",
    "dummy_pipeline = make_pipeline(heart_preprocessor, dummy)\n",
    "cv_10_dummy = pd.DataFrame(\n",
    "    cross_validate(\n",
    "        estimator=dummy_pipeline,\n",
    "        cv=10,\n",
    "        X=X_train,\n",
    "        y=y_train\n",
    "    )\n",
    ")\n",
    "cv_10_dummy_metrics = cv_10_dummy.agg([\"mean\", \"sem\"])\n",
    "results = pd.DataFrame({'mean' : [cv_10_dummy_metrics.test_score.iloc[0]],\n",
    "  'sem' : [cv_10_dummy_metrics.test_score.iloc[1]]},\n",
    "  index = ['Dummy classifier']\n",
    ")\n",
    "results"
   ]
  },
  {
   "cell_type": "markdown",
   "id": "dd553620-255e-4896-b631-2ebbf86b44e0",
   "metadata": {},
   "source": [
    "## Fitting a decision tree"
   ]
  },
  {
   "cell_type": "code",
   "execution_count": null,
   "id": "994444a9-c9fa-446e-a553-e07faee3b58e",
   "metadata": {},
   "outputs": [],
   "source": [
    "from sklearn.tree import DecisionTreeClassifier\n",
    "\n",
    "decision_tree = DecisionTreeClassifier(random_state=2026)\n",
    "\n",
    "dt_pipeline = make_pipeline(heart_preprocessor, decision_tree)\n",
    "cv_10_dt = pd.DataFrame(\n",
    "    cross_validate(\n",
    "        estimator=dt_pipeline,\n",
    "        cv=10,\n",
    "        X=X_train,\n",
    "        y=y_train\n",
    "    )\n",
    ")\n",
    "cv_10_dt_metrics = cv_10_dt.agg([\"mean\", \"sem\"])\n",
    "results_dt = pd.DataFrame({'mean' : [cv_10_dt_metrics.test_score.iloc[0]],\n",
    "  'sem' : [cv_10_dt_metrics.test_score.iloc[1]]},\n",
    "  index = ['Decision tree']\n",
    ")\n",
    "results = pd.concat([results, results_dt])\n",
    "results"
   ]
  },
  {
   "cell_type": "markdown",
   "id": "699579aa-139c-4a74-8411-a2bde89021ab",
   "metadata": {},
   "source": [
    "## Random forest in `scikit-learn` & missing values\n",
    "\n",
    "How many rows have missing observations:"
   ]
  },
  {
   "cell_type": "code",
   "execution_count": null,
   "id": "7e044a9f-d242-4c09-a6b4-e1710e406cb0",
   "metadata": {},
   "outputs": [],
   "source": [
    "heart.isna().any(axis=1).sum()\n"
   ]
  },
  {
   "cell_type": "markdown",
   "id": "ade38aaf-72a5-497e-9a9b-a6ee1790f9be",
   "metadata": {},
   "source": [
    "Drop rows with missing observations:\r"
   ]
  },
  {
   "cell_type": "code",
   "execution_count": null,
   "id": "3ab83e76-8a49-4249-98ef-381408701cd5",
   "metadata": {},
   "outputs": [],
   "source": [
    "heart_train_drop_na = heart_train.dropna()\n",
    "\n",
    "X_train_drop_na = heart_train_drop_na.drop(\n",
    "    columns=['AHD']\n",
    ")\n",
    "y_train_drop_na = heart_train_drop_na['AHD']"
   ]
  },
  {
   "cell_type": "markdown",
   "id": "34fd18d1-5e72-4c4b-8f03-89fa1739c7a3",
   "metadata": {},
   "source": [
    "## Random forest in `scikit-learn`"
   ]
  },
  {
   "cell_type": "code",
   "execution_count": null,
   "id": "014860a3-1ac7-4f5c-8d35-a5edd582b54b",
   "metadata": {},
   "outputs": [],
   "source": [
    "from sklearn.ensemble import RandomForestClassifier\n",
    "\n",
    "random_forest = RandomForestClassifier(random_state=2026)\n",
    "rf_pipeline = make_pipeline(heart_preprocessor, random_forest)\n",
    "cv_10_rf = pd.DataFrame(\n",
    "    cross_validate(\n",
    "        estimator=rf_pipeline,\n",
    "        cv=10,\n",
    "        X=X_train_drop_na,\n",
    "        y=y_train_drop_na\n",
    "    )\n",
    ")\n",
    "\n",
    "cv_10_rf_metrics = cv_10_rf.agg([\"mean\", \"sem\"])\n",
    "results_rf = pd.DataFrame({'mean' : [cv_10_rf_metrics.test_score.iloc[0]],\n",
    "  'sem' : [cv_10_rf_metrics.test_score.iloc[1]]},\n",
    "  index = ['Random forest']\n",
    ")\n",
    "results = pd.concat([results, results_rf])\n",
    "results"
   ]
  },
  {
   "cell_type": "markdown",
   "id": "b545b4cb-c742-46af-aae6-4f812b621c8d",
   "metadata": {},
   "source": [
    "## Tuning random forest in `scikit-learn`"
   ]
  },
  {
   "cell_type": "code",
   "execution_count": null,
   "id": "6e62981c-8bac-4138-b767-07f2957df5c4",
   "metadata": {},
   "outputs": [],
   "source": [
    "from sklearn.model_selection import GridSearchCV\n",
    "\n",
    "rf_param_grid = {'randomforestclassifier__n_estimators': [200],\n",
    "              'randomforestclassifier__max_depth': [1, 3, 5, 7, 9],\n",
    "              'randomforestclassifier__max_features': [1, 2, 3, 4, 5, 6, 7]}\n",
    "\n",
    "rf_tune_grid = GridSearchCV(\n",
    "    estimator=rf_pipeline,\n",
    "    param_grid=rf_param_grid,\n",
    "    cv=10,\n",
    "    n_jobs=-1 # tells computer to use all available CPUs\n",
    ")\n",
    "rf_tune_grid.fit(\n",
    "    X_train_drop_na,\n",
    "    y_train_drop_na\n",
    ")\n",
    "\n",
    "cv_10_rf_tuned_metrics = pd.DataFrame(rf_tune_grid.cv_results_)\n",
    "results_rf_tuned = pd.DataFrame({'mean' : rf_tune_grid.best_score_,\n",
    "  'sem' : pd.DataFrame(rf_tune_grid.cv_results_)['std_test_score'][6] / 10**(1/2)},\n",
    "  index = ['Random forest tuned']\n",
    ")\n",
    "results = pd.concat([results, results_rf_tuned])"
   ]
  },
  {
   "cell_type": "code",
   "execution_count": null,
   "id": "8d98dd04-3ac6-43be-97e8-165862656b5a",
   "metadata": {},
   "outputs": [],
   "source": [
    "results"
   ]
  },
  {
   "cell_type": "markdown",
   "id": "8ebe16d9-24f2-4879-b81f-a8244e12d2fb",
   "metadata": {},
   "source": [
    "## Tuning `GradientBoostingClassifier` with `scikit-learn`"
   ]
  },
  {
   "cell_type": "code",
   "execution_count": null,
   "id": "2f4306f6-8182-4556-b92d-8fe2a82bf64a",
   "metadata": {},
   "outputs": [],
   "source": [
    "from sklearn.ensemble import GradientBoostingClassifier\n",
    "\n",
    "gradient_boosted_classifier = GradientBoostingClassifier(random_state=2026)\n",
    "gb_pipeline = make_pipeline(heart_preprocessor, gradient_boosted_classifier)\n",
    "gb_param_grid = {'gradientboostingclassifier__n_estimators': [200],\n",
    "              'gradientboostingclassifier__max_depth': [1, 3, 5, 7, 9],\n",
    "              'gradientboostingclassifier__learning_rate': [0.001, 0.005, 0.01]}\n",
    "gb_tune_grid = GridSearchCV(\n",
    "    estimator=gb_pipeline,\n",
    "    param_grid=gb_param_grid,\n",
    "    cv=10,\n",
    "    n_jobs=-1 # tells computer to use all available CPUs\n",
    ")\n",
    "gb_tune_grid.fit(\n",
    "    X_train_drop_na,\n",
    "    y_train_drop_na\n",
    ")\n",
    "\n",
    "cv_10_gb_tuned_metrics = pd.DataFrame(gb_tune_grid.cv_results_)\n",
    "results_gb_tuned = pd.DataFrame({'mean' : gb_tune_grid.best_score_,\n",
    "  'sem' : pd.DataFrame(gb_tune_grid.cv_results_)['std_test_score'][6] / 10**(1/2)},\n",
    "  index = ['Gradient boosted classifier tuned']\n",
    ")\n",
    "results = pd.concat([results, results_gb_tuned])"
   ]
  },
  {
   "cell_type": "code",
   "execution_count": null,
   "id": "59b8ee10-26dd-4c64-b0e8-63194cb93231",
   "metadata": {},
   "outputs": [],
   "source": [
    "results"
   ]
  },
  {
   "cell_type": "markdown",
   "id": "4d8f7467-1f94-44a0-9e7a-0e5ce39cdbb7",
   "metadata": {},
   "source": [
    "## Precision and recall on the tuned random forest model"
   ]
  },
  {
   "cell_type": "code",
   "execution_count": null,
   "id": "653f9de8-5f16-4e91-a2ab-9fa0f2597b9a",
   "metadata": {},
   "outputs": [],
   "source": [
    "from sklearn.metrics import make_scorer, precision_score, recall_score\n",
    "\n",
    "scoring = {\n",
    "    'accuracy': 'accuracy',\n",
    "    'precision': make_scorer(precision_score, pos_label='Yes'),\n",
    "    'recall': make_scorer(recall_score, pos_label='Yes')\n",
    "}\n",
    "\n",
    "rf_tune_grid = GridSearchCV(\n",
    "    estimator=rf_pipeline,\n",
    "    param_grid=rf_param_grid,\n",
    "    cv=10,\n",
    "    n_jobs=-1,\n",
    "    scoring=scoring,\n",
    "    refit='accuracy'\n",
    ")\n",
    "\n",
    "rf_tune_grid.fit(X_train_drop_na, y_train_drop_na)"
   ]
  },
  {
   "cell_type": "code",
   "execution_count": null,
   "id": "e179b17c-ad2f-413f-aaf4-bfff85f18f9a",
   "metadata": {},
   "outputs": [],
   "source": [
    "cv_results = pd.DataFrame(rf_tune_grid.cv_results_)\n",
    "\n",
    "mean_precision = cv_results['mean_test_precision'].iloc[rf_tune_grid.best_index_]\n",
    "sem_precision = cv_results['std_test_precision'].iloc[rf_tune_grid.best_index_] / np.sqrt(10)\n",
    "mean_recall = cv_results['mean_test_recall'].iloc[rf_tune_grid.best_index_]\n",
    "sem_recall = cv_results['std_test_recall'].iloc[rf_tune_grid.best_index_] / np.sqrt(10)\n",
    "\n",
    "results_rf_tuned = pd.DataFrame({\n",
    "    'mean': [rf_tune_grid.best_score_, mean_precision, mean_recall],\n",
    "    'sem': [cv_results['std_test_accuracy'].iloc[rf_tune_grid.best_index_] / np.sqrt(10), sem_precision, sem_recall],\n",
    "}, index=['accuracy', 'precision', 'recall'])\n",
    "\n",
    "results_rf_tuned"
   ]
  },
  {
   "cell_type": "markdown",
   "id": "28a02755-94f5-45e7-9cc8-8cea979f3301",
   "metadata": {},
   "source": [
    "## Feature importances in `scikit-learn`"
   ]
  },
  {
   "cell_type": "code",
   "execution_count": null,
   "id": "ca954234-1447-4ef8-8000-c0ba9af4a350",
   "metadata": {},
   "outputs": [],
   "source": [
    "# Access the best pipeline\n",
    "best_pipeline = rf_tune_grid.best_estimator_\n",
    "\n",
    "# Extract the trained RandomForestClassifier from the pipeline\n",
    "best_rf = best_pipeline.named_steps['randomforestclassifier']\n",
    "\n",
    "# Extract feature names after preprocessing\n",
    "# Get the names of features from each transformer in the pipeline\n",
    "numeric_features = numeric_feats\n",
    "categorical_feature_names = best_pipeline.named_steps['columntransformer'].transformers_[2][1].get_feature_names_out(categorical_feats)\n",
    "passthrough_features = passthrough_feats\n",
    "\n",
    "# Combine all feature names into a single list\n",
    "feature_names = np.concatenate([numeric_features, passthrough_features, categorical_feature_names])\n",
    "\n",
    "# Calculate feature importances\n",
    "feature_importances = best_rf.feature_importances_\n",
    "\n",
    "# Create a DataFrame to display feature importances\n",
    "importances_df = pd.DataFrame({\n",
    "    'Feature': feature_names,\n",
    "    'Importance': feature_importances\n",
    "})\n",
    "\n",
    "# Sort by importance (descending order)\n",
    "importances_df = importances_df.sort_values(by='Importance', ascending=False)"
   ]
  },
  {
   "cell_type": "markdown",
   "id": "ebf1b8c0-5048-4aa4-9a32-89286177805a",
   "metadata": {},
   "source": [
    "## Visualizing the results"
   ]
  },
  {
   "cell_type": "code",
   "execution_count": null,
   "id": "611a3cdc-0333-49a0-ac6b-f6ab647b97ed",
   "metadata": {},
   "outputs": [],
   "source": [
    "import altair as alt\n",
    "\n",
    "bar_chart = alt.Chart(importances_df).mark_bar().encode(\n",
    "    x=alt.X('Importance:Q', title='Feature Importance'),\n",
    "    y=alt.Y('Feature:N', sort='-x', title='Feature'),\n",
    "    tooltip=['Feature', 'Importance']\n",
    ").properties(\n",
    "    title='Feature Importances from Random Forest Model',\n",
    "    width=600,\n",
    "    height=400\n",
    ")\n",
    "bar_chart"
   ]
  },
  {
   "cell_type": "markdown",
   "id": "a974474e-1a33-423a-a293-cd312e4bc63e",
   "metadata": {},
   "source": [
    "## Evaluating on the test set"
   ]
  },
  {
   "cell_type": "code",
   "execution_count": null,
   "id": "361226ca-8f4c-4f0a-b1ff-39a4565b4d21",
   "metadata": {},
   "outputs": [],
   "source": [
    "heart_test_drop_na = heart_test.dropna()\n",
    "X_test_drop_na = heart_test_drop_na.drop(columns=['AHD'])\n",
    "y_test_drop_na = heart_test_drop_na['AHD']\n",
    "\n",
    "heart_test_drop_na[\"predicted\"] = rf_tune_grid.predict(\n",
    "    X_test_drop_na\n",
    ")"
   ]
  },
  {
   "cell_type": "markdown",
   "id": "639f4b46-0068-4807-8656-ed565abc6890",
   "metadata": {},
   "source": [
    "Accuracy"
   ]
  },
  {
   "cell_type": "code",
   "execution_count": null,
   "id": "53d3be88-f211-4cfd-a9b2-4ddad0a47b0c",
   "metadata": {},
   "outputs": [],
   "source": [
    "rf_tune_grid.score(\n",
    "    X_test_drop_na,\n",
    "    y_test_drop_na\n",
    ")"
   ]
  },
  {
   "cell_type": "markdown",
   "id": "09f30d8a-4614-4471-8bb9-0a1b0cf8581b",
   "metadata": {},
   "source": [
    "Precision"
   ]
  },
  {
   "cell_type": "code",
   "execution_count": null,
   "id": "2b923a46-89b9-4a81-9c8f-98c2dd031c48",
   "metadata": {},
   "outputs": [],
   "source": [
    "precision_score(\n",
    "    y_true=heart_test_drop_na[\"AHD\"],\n",
    "    y_pred=heart_test_drop_na[\"predicted\"],\n",
    "    pos_label='Yes'\n",
    ")"
   ]
  },
  {
   "cell_type": "markdown",
   "id": "9eb72e81-1bd0-4096-b074-f4853353373a",
   "metadata": {},
   "source": [
    "Recall"
   ]
  },
  {
   "cell_type": "code",
   "execution_count": null,
   "id": "4b5d3b8d-4e1e-44d9-99dd-80feb6ef783d",
   "metadata": {},
   "outputs": [],
   "source": [
    "recall_score(\n",
    "    y_true=heart_test_drop_na[\"AHD\"],\n",
    "    y_pred=heart_test_drop_na[\"predicted\"],\n",
    "    pos_label='Yes'\n",
    ")"
   ]
  },
  {
   "cell_type": "markdown",
   "id": "88f9f721-3b5a-4135-82d8-f146d83db7ae",
   "metadata": {},
   "source": [
    "Confusion matrix"
   ]
  },
  {
   "cell_type": "code",
   "execution_count": null,
   "id": "379e37a1-188b-4c4e-9f09-c95c04c9d47e",
   "metadata": {},
   "outputs": [],
   "source": [
    "conf_matrix = pd.crosstab(\n",
    "    heart_test_drop_na[\"AHD\"],\n",
    "    heart_test_drop_na[\"predicted\"]\n",
    ")\n",
    "print(conf_matrix)"
   ]
  },
  {
   "cell_type": "markdown",
   "id": "1f257d9a-fefd-4e64-9d63-9ec588eba123",
   "metadata": {},
   "source": [
    "## References\r",
    "\r",
    "Gareth James, Daniela Witten, Trevor Hastie, Robert Tibshirani and Jonathan Taylor. An Introduction to Statistical Learning with Applications in Python. Springer, 1st edition, 2023. URL: https://www.statlearning.com/.\r",
    "\r",
    "Kolhatkar, V., and Ostblom, J. (2024). UBC DSCI 573: Feature and Model Selection course notes. URL: https://ubc-mds.github.io/DSCI_573_feat-model-select\r",
    "\r",
    "Pedregosa, F. et al., 2011. Scikit-learn: Machine learning in Python. Journal of machine learning research, 12(Oct), pp.2825–2830."
   ]
  }
 ],
 "metadata": {
  "jupytext": {
   "encoding": "# -*- coding: utf-8 -*-"
  },
  "kernelspec": {
   "display_name": "Python 3.11.4 - rstudio",
   "language": "python",
   "name": "rstudio-user-3.11.4"
  },
  "language_info": {
   "codemirror_mode": {
    "name": "ipython",
    "version": 3
   },
   "file_extension": ".py",
   "mimetype": "text/x-python",
   "name": "python",
   "nbconvert_exporter": "python",
   "pygments_lexer": "ipython3",
   "version": "3.11.6"
  }
 },
 "nbformat": 4,
 "nbformat_minor": 5
}
